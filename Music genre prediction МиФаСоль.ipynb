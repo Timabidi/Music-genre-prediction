{
 "cells": [
  {
   "cell_type": "markdown",
   "id": "fec930ff",
   "metadata": {},
   "source": [
    "**Yandex Praktikum login: tbetterknow@mail.ru**\n",
    "\n",
    "**Telegram: @Tibidi**"
   ]
  },
  {
   "cell_type": "markdown",
   "id": "9bad4a50",
   "metadata": {},
   "source": [
    "<h1>Мастерская 1. Проект Music genre prediction [M1_25DS+]<span class=\"tocSkip\"></span></h1>"
   ]
  },
  {
   "cell_type": "markdown",
   "id": "23309da8",
   "metadata": {},
   "source": [
    "<h1>Содержание<span class=\"tocSkip\"></span></h1>\n",
    "\n",
    "1. Загрузка и ознакомление с данными,\n",
    "2. Предварительная обработка данных,\n",
    "3. Разведочный анализ данных,\n",
    "4. Отбор финального набора обучающих признаков,\n",
    "5. Выбор и обучение моделей"
   ]
  },
  {
   "cell_type": "markdown",
   "id": "bd68104d",
   "metadata": {},
   "source": [
    "<h1>Описание проекта<span class=\"tocSkip\"></span></h1>\n",
    "\n",
    "Вы сотрудник Отдела Data Science популярного музыкального стримингового сервиса \"МиФаСоль\". Сервис расширяет работу с новыми артистами и музыкантами, в связи с чем возникла задача -- правильно классифицировать новые музыкальные треки, чтобы улучшить работу рекомендательной системы. Ваши коллеги из отдела работы со звуком подготовили датасет, в котором собраны некоторые характеристики музыкальных произведений и их жанры. Ваша задача -- разработать модель, позволяющую классифицировать музыкальные произведения по жанрам."
   ]
  },
  {
   "cell_type": "markdown",
   "id": "3297d2a5",
   "metadata": {},
   "source": [
    "<h1>Дополнительное задание<span class=\"tocSkip\"></span></h1>\n",
    "\n",
    "Для тех, кому этого покажется мало у нас есть дополнительное задание — реализовать решение с использованием технологии pipeline (из библиотеки sklearn, imblearn).\n",
    "Подготовка отчета по исследованию. Если останется время можно подготовить полноценный отчет по исследовательской работе Дата Сайнтиста. Примеры хороших отчетов можно посмотреть на сайте Stanford University - отчеты по финальным проектам направления Machine Learning - https://cs229.stanford.edu/projects2014.html. Из примеров понятно наполнение отчета по исследованию, а так же, что главное - понятна сама структура отчета. В реальной работе именно такой формат отчета обычно завершает исследование."
   ]
  },
  {
   "cell_type": "markdown",
   "id": "c7b596ea",
   "metadata": {},
   "source": [
    "<h1>Описание данных<span class=\"tocSkip\"></span></h1>\n",
    "\n",
    "**train.csv** - информация (~20000) музыкальных треках, которые будут использоваться в качестве обучающих данных.\n",
    "\n",
    "**test.csv** - информация (~5000) музыкальных треках, которые будут использоваться в качестве тестовых данных. Ваша задача - предсказать значение 'music_genre' для каждого трека из этого датасета.\n",
    "\n",
    "**sample_submit.csv** - файл предсказаний в правильном формате.\n",
    "\n",
    "- instance_id - идентификатор трека в тестовом наборе.\n",
    "- music_genre - Целевой признак. Для каждого трека предскажите категориальное значение соответствующее музыкальному жанру трека."
   ]
  },
  {
   "cell_type": "markdown",
   "id": "c7f5df69",
   "metadata": {},
   "source": [
    "<h1>Описание полей данных<span class=\"tocSkip\"></span></h1>\n",
    "\n",
    "- **instance_id** -Уникальный идентификатор трека\n",
    "\n",
    "- **track_name** - Название трека\n",
    "\n",
    "- **acousticness** - Мера уверенности от 0,0 до 1,0 в том, что трек является акустическим. 1,0 означает высокую степень уверенности в том, что трек является акустическим.\n",
    "\n",
    "- **danceability** - Танцевальность описывает, насколько трек подходит для танцев, основываясь на сочетании музыкальных элементов, включая темп, стабильность ритма, силу ударов и общую регулярность. Значение 0,0 означает наименьшую танцевальность, а 1,0 - наибольшую танцевальность.\n",
    "\n",
    "- **duration_ms** - Продолжительность трека в миллисекундах.\n",
    "\n",
    "- **energy** - Энергия это показатель от 0,0 до 1,0, представляющий собой меру интенсивности и активности. Как правило, энергичные композиции ощущаются как быстрые, громкие и шумные. Например, дэт-метал обладает высокой энергией, в то время как прелюдия Баха имеет низкую оценку этого параметра\n",
    "\n",
    "- **instrumentalness** - Определяет, содержит ли трек вокал. Звуки \"Ooh\" и \"aah\" в данном контексте рассматриваются как инструментальные. Рэп или разговорные треки явно являются \"вокальными\". Чем ближе значение инструментальности к 1,0, тем больше вероятность того, что трек не содержит вокала\n",
    "\n",
    "- **key** - базовый ключ (нота) произведения\n",
    "\n",
    "- **liveness** - Определяет присутствие аудитории в записи. Более высокие значения liveness означают увеличение вероятности того, что трек был исполнен вживую. Значение выше 0,8 обеспечивает высокую вероятность того, что трек исполняется вживую\n",
    "\n",
    "- **loudness** - Общая громкость трека в децибелах (дБ)\n",
    "\n",
    "- **mode** - Указывает на модальность (мажорную или минорную) трека\n",
    "\n",
    "- **speechiness** - Речевой характер определяет наличие в треке разговорной речи. Чем более исключительно речевой характер носит запись (например, ток-шоу, аудиокнига, поэзия), тем ближе значение атрибута к 1,0. Значения выше 0,66 характеризуют треки, которые, вероятно, полностью состоят из разговорной речи. Значения от 0,33 до 0,66 характеризуют треки, которые могут содержать как музыку, так и речь, как в виде фрагментов, так и в виде слоев, включая такие случаи, как рэп-музыка. Значения ниже 0,33, скорее всего, представляют музыку и другие неречевые треки.\n",
    "\n",
    "- **tempo** - Темп трека в ударах в минуту (BPM). В музыкальной терминологии темп представляет собой скорость или темп данного произведения и напрямую зависит от средней продолжительности тактов\n",
    "\n",
    "- **obtained_date** - дата загрузки в сервис\n",
    "\n",
    "- **valence** - Показатель от 0,0 до 1,0, характеризующий музыкальный позитив, передаваемый треком. Композиции с высокой валентностью звучат более позитивно (например, радостно, весело, эйфорично), а композиции с низкой валентностью - более негативно (например, грустно, депрессивно, сердито)\n",
    "\n",
    "- **music_genre** - Музыкальный жанр трека"
   ]
  },
  {
   "cell_type": "markdown",
   "id": "3a011eae",
   "metadata": {},
   "source": [
    "## Загрузка и ознакомление с данными"
   ]
  },
  {
   "cell_type": "code",
   "execution_count": 164,
   "id": "35853be1",
   "metadata": {},
   "outputs": [],
   "source": [
    "# Загружаем трубуемые библиотеки для нашей работы\n",
    "import pandas as pd\n",
    "import numpy as np\n",
    "import matplotlib.pyplot as plt\n",
    "import seaborn as sns\n",
    "from sklearn.linear_model import LogisticRegression\n",
    "from sklearn.ensemble import RandomForestClassifier\n",
    "from sklearn.tree import DecisionTreeClassifier\n",
    "from sklearn.model_selection import train_test_split\n",
    "from sklearn.metrics import f1_score\n",
    "from sklearn.metrics import accuracy_score\n",
    "from sklearn.utils import shuffle\n",
    "from sklearn.model_selection import GridSearchCV\n",
    "from sklearn.preprocessing import LabelEncoder\n",
    "from sklearn.preprocessing import MinMaxScaler"
   ]
  },
  {
   "cell_type": "code",
   "execution_count": 165,
   "id": "f02b6b4b",
   "metadata": {},
   "outputs": [],
   "source": [
    "# Читаем и записываем датасеты в переменные data_train и data_test\n",
    "\n",
    "try:\n",
    "    data_train = pd.read_csv('/Users/tbetterknow/Desktop/Яндекс_Практикум/Мастерская 1 MUSIC/kaggle_music_genre_train.csv')\n",
    "    data_test = pd.read_csv('/Users/tbetterknow/Desktop/Яндекс_Практикум/Мастерская 1 MUSIC/kaggle_music_genre_test.csv')\n",
    "    \n",
    "# except:\n",
    "    #data_train = pd.read_csv(\n",
    "    #data_test = pd.read_csv("
   ]
  },
  {
   "cell_type": "markdown",
   "id": "667275b8",
   "metadata": {},
   "source": [
    "<div style=\"background: #B0E0E6; padding: 5px; border: 1px solid SteelBlue; border-radius: 5px;\">\n",
    "    <font color='4682B4'><u><b>ВОПРОС СТУДЕНТА</b></u></font>\n",
    "    <br />\n",
    "    <font color='4682B4'>\n",
    "    \n",
    "Большая просьба подсказать как указывать путь на данные после  except с самого Kaggle. Нашел информацию только для collab."
   ]
  },
  {
   "cell_type": "code",
   "execution_count": 166,
   "id": "139e1835",
   "metadata": {},
   "outputs": [
    {
     "name": "stdout",
     "output_type": "stream",
     "text": [
      "(20394, 16)\n",
      "(5099, 15)\n"
     ]
    }
   ],
   "source": [
    "# Смотрим на размеры датасетов data_train и data_test\n",
    "print(data_train.shape)\n",
    "print(data_test.shape)"
   ]
  },
  {
   "cell_type": "code",
   "execution_count": 167,
   "id": "93a8ce25",
   "metadata": {},
   "outputs": [
    {
     "data": {
      "text/html": [
       "<div>\n",
       "<style scoped>\n",
       "    .dataframe tbody tr th:only-of-type {\n",
       "        vertical-align: middle;\n",
       "    }\n",
       "\n",
       "    .dataframe tbody tr th {\n",
       "        vertical-align: top;\n",
       "    }\n",
       "\n",
       "    .dataframe thead th {\n",
       "        text-align: right;\n",
       "    }\n",
       "</style>\n",
       "<table border=\"1\" class=\"dataframe\">\n",
       "  <thead>\n",
       "    <tr style=\"text-align: right;\">\n",
       "      <th></th>\n",
       "      <th>instance_id</th>\n",
       "      <th>track_name</th>\n",
       "      <th>acousticness</th>\n",
       "      <th>danceability</th>\n",
       "      <th>duration_ms</th>\n",
       "      <th>energy</th>\n",
       "      <th>instrumentalness</th>\n",
       "      <th>key</th>\n",
       "      <th>liveness</th>\n",
       "      <th>loudness</th>\n",
       "      <th>mode</th>\n",
       "      <th>speechiness</th>\n",
       "      <th>tempo</th>\n",
       "      <th>obtained_date</th>\n",
       "      <th>valence</th>\n",
       "      <th>music_genre</th>\n",
       "    </tr>\n",
       "  </thead>\n",
       "  <tbody>\n",
       "    <tr>\n",
       "      <th>0</th>\n",
       "      <td>25143.0</td>\n",
       "      <td>Highwayman</td>\n",
       "      <td>0.4800</td>\n",
       "      <td>0.670</td>\n",
       "      <td>182653.0</td>\n",
       "      <td>0.351</td>\n",
       "      <td>0.017600</td>\n",
       "      <td>D</td>\n",
       "      <td>0.115</td>\n",
       "      <td>-16.842</td>\n",
       "      <td>Major</td>\n",
       "      <td>0.0463</td>\n",
       "      <td>101.384</td>\n",
       "      <td>4-Apr</td>\n",
       "      <td>0.450</td>\n",
       "      <td>Country</td>\n",
       "    </tr>\n",
       "    <tr>\n",
       "      <th>1</th>\n",
       "      <td>26091.0</td>\n",
       "      <td>Toes Across The Floor</td>\n",
       "      <td>0.2430</td>\n",
       "      <td>0.452</td>\n",
       "      <td>187133.0</td>\n",
       "      <td>0.670</td>\n",
       "      <td>0.000051</td>\n",
       "      <td>A</td>\n",
       "      <td>0.108</td>\n",
       "      <td>-8.392</td>\n",
       "      <td>Minor</td>\n",
       "      <td>0.0352</td>\n",
       "      <td>113.071</td>\n",
       "      <td>4-Apr</td>\n",
       "      <td>0.539</td>\n",
       "      <td>Rock</td>\n",
       "    </tr>\n",
       "    <tr>\n",
       "      <th>2</th>\n",
       "      <td>87888.0</td>\n",
       "      <td>First Person on Earth</td>\n",
       "      <td>0.2280</td>\n",
       "      <td>0.454</td>\n",
       "      <td>173448.0</td>\n",
       "      <td>0.804</td>\n",
       "      <td>0.000000</td>\n",
       "      <td>E</td>\n",
       "      <td>0.181</td>\n",
       "      <td>-5.225</td>\n",
       "      <td>Minor</td>\n",
       "      <td>0.3710</td>\n",
       "      <td>80.980</td>\n",
       "      <td>4-Apr</td>\n",
       "      <td>0.344</td>\n",
       "      <td>Alternative</td>\n",
       "    </tr>\n",
       "    <tr>\n",
       "      <th>3</th>\n",
       "      <td>77021.0</td>\n",
       "      <td>No Te Veo - Digital Single</td>\n",
       "      <td>0.0558</td>\n",
       "      <td>0.847</td>\n",
       "      <td>255987.0</td>\n",
       "      <td>0.873</td>\n",
       "      <td>0.000003</td>\n",
       "      <td>G#</td>\n",
       "      <td>0.325</td>\n",
       "      <td>-4.805</td>\n",
       "      <td>Minor</td>\n",
       "      <td>0.0804</td>\n",
       "      <td>116.007</td>\n",
       "      <td>4-Apr</td>\n",
       "      <td>0.966</td>\n",
       "      <td>Hip-Hop</td>\n",
       "    </tr>\n",
       "    <tr>\n",
       "      <th>4</th>\n",
       "      <td>20852.0</td>\n",
       "      <td>Chasing Shadows</td>\n",
       "      <td>0.2270</td>\n",
       "      <td>0.742</td>\n",
       "      <td>195333.0</td>\n",
       "      <td>0.575</td>\n",
       "      <td>0.000002</td>\n",
       "      <td>C</td>\n",
       "      <td>0.176</td>\n",
       "      <td>-5.550</td>\n",
       "      <td>Major</td>\n",
       "      <td>0.0487</td>\n",
       "      <td>76.494</td>\n",
       "      <td>4-Apr</td>\n",
       "      <td>0.583</td>\n",
       "      <td>Alternative</td>\n",
       "    </tr>\n",
       "  </tbody>\n",
       "</table>\n",
       "</div>"
      ],
      "text/plain": [
       "   instance_id                  track_name  acousticness  danceability  \\\n",
       "0      25143.0                  Highwayman        0.4800         0.670   \n",
       "1      26091.0       Toes Across The Floor        0.2430         0.452   \n",
       "2      87888.0       First Person on Earth        0.2280         0.454   \n",
       "3      77021.0  No Te Veo - Digital Single        0.0558         0.847   \n",
       "4      20852.0             Chasing Shadows        0.2270         0.742   \n",
       "\n",
       "   duration_ms  energy  instrumentalness key  liveness  loudness   mode  \\\n",
       "0     182653.0   0.351          0.017600   D     0.115   -16.842  Major   \n",
       "1     187133.0   0.670          0.000051   A     0.108    -8.392  Minor   \n",
       "2     173448.0   0.804          0.000000   E     0.181    -5.225  Minor   \n",
       "3     255987.0   0.873          0.000003  G#     0.325    -4.805  Minor   \n",
       "4     195333.0   0.575          0.000002   C     0.176    -5.550  Major   \n",
       "\n",
       "   speechiness    tempo obtained_date  valence  music_genre  \n",
       "0       0.0463  101.384         4-Apr    0.450      Country  \n",
       "1       0.0352  113.071         4-Apr    0.539         Rock  \n",
       "2       0.3710   80.980         4-Apr    0.344  Alternative  \n",
       "3       0.0804  116.007         4-Apr    0.966      Hip-Hop  \n",
       "4       0.0487   76.494         4-Apr    0.583  Alternative  "
      ]
     },
     "execution_count": 167,
     "metadata": {},
     "output_type": "execute_result"
    }
   ],
   "source": [
    "# Выводим первые 5 строк data_train\n",
    "data_train.head()"
   ]
  },
  {
   "cell_type": "code",
   "execution_count": 168,
   "id": "1b3a9b2f",
   "metadata": {},
   "outputs": [
    {
     "data": {
      "text/html": [
       "<div>\n",
       "<style scoped>\n",
       "    .dataframe tbody tr th:only-of-type {\n",
       "        vertical-align: middle;\n",
       "    }\n",
       "\n",
       "    .dataframe tbody tr th {\n",
       "        vertical-align: top;\n",
       "    }\n",
       "\n",
       "    .dataframe thead th {\n",
       "        text-align: right;\n",
       "    }\n",
       "</style>\n",
       "<table border=\"1\" class=\"dataframe\">\n",
       "  <thead>\n",
       "    <tr style=\"text-align: right;\">\n",
       "      <th></th>\n",
       "      <th>instance_id</th>\n",
       "      <th>track_name</th>\n",
       "      <th>acousticness</th>\n",
       "      <th>danceability</th>\n",
       "      <th>duration_ms</th>\n",
       "      <th>energy</th>\n",
       "      <th>instrumentalness</th>\n",
       "      <th>key</th>\n",
       "      <th>liveness</th>\n",
       "      <th>loudness</th>\n",
       "      <th>mode</th>\n",
       "      <th>speechiness</th>\n",
       "      <th>tempo</th>\n",
       "      <th>obtained_date</th>\n",
       "      <th>valence</th>\n",
       "    </tr>\n",
       "  </thead>\n",
       "  <tbody>\n",
       "    <tr>\n",
       "      <th>0</th>\n",
       "      <td>48564</td>\n",
       "      <td>Low Class Conspiracy</td>\n",
       "      <td>0.301000</td>\n",
       "      <td>0.757</td>\n",
       "      <td>146213.0</td>\n",
       "      <td>0.679</td>\n",
       "      <td>0.00000</td>\n",
       "      <td>A#</td>\n",
       "      <td>0.3030</td>\n",
       "      <td>-7.136</td>\n",
       "      <td>Minor</td>\n",
       "      <td>0.3560</td>\n",
       "      <td>90.361</td>\n",
       "      <td>4-Apr</td>\n",
       "      <td>0.895</td>\n",
       "    </tr>\n",
       "    <tr>\n",
       "      <th>1</th>\n",
       "      <td>72394</td>\n",
       "      <td>The Hunter</td>\n",
       "      <td>0.538000</td>\n",
       "      <td>0.256</td>\n",
       "      <td>240360.0</td>\n",
       "      <td>0.523</td>\n",
       "      <td>0.00832</td>\n",
       "      <td>G#</td>\n",
       "      <td>0.0849</td>\n",
       "      <td>-5.175</td>\n",
       "      <td>Major</td>\n",
       "      <td>0.0294</td>\n",
       "      <td>78.385</td>\n",
       "      <td>4-Apr</td>\n",
       "      <td>0.318</td>\n",
       "    </tr>\n",
       "    <tr>\n",
       "      <th>2</th>\n",
       "      <td>88081</td>\n",
       "      <td>Hate Me Now</td>\n",
       "      <td>0.005830</td>\n",
       "      <td>0.678</td>\n",
       "      <td>284000.0</td>\n",
       "      <td>0.770</td>\n",
       "      <td>0.00000</td>\n",
       "      <td>A</td>\n",
       "      <td>0.1090</td>\n",
       "      <td>-4.399</td>\n",
       "      <td>Minor</td>\n",
       "      <td>0.2220</td>\n",
       "      <td>90.000</td>\n",
       "      <td>4-Apr</td>\n",
       "      <td>0.412</td>\n",
       "    </tr>\n",
       "    <tr>\n",
       "      <th>3</th>\n",
       "      <td>78331</td>\n",
       "      <td>Somebody Ain't You</td>\n",
       "      <td>0.020300</td>\n",
       "      <td>0.592</td>\n",
       "      <td>177354.0</td>\n",
       "      <td>0.749</td>\n",
       "      <td>0.00000</td>\n",
       "      <td>B</td>\n",
       "      <td>0.1220</td>\n",
       "      <td>-4.604</td>\n",
       "      <td>Major</td>\n",
       "      <td>0.0483</td>\n",
       "      <td>160.046</td>\n",
       "      <td>4-Apr</td>\n",
       "      <td>0.614</td>\n",
       "    </tr>\n",
       "    <tr>\n",
       "      <th>4</th>\n",
       "      <td>72636</td>\n",
       "      <td>Sour Mango</td>\n",
       "      <td>0.000335</td>\n",
       "      <td>0.421</td>\n",
       "      <td>-1.0</td>\n",
       "      <td>0.447</td>\n",
       "      <td>0.01480</td>\n",
       "      <td>D</td>\n",
       "      <td>0.0374</td>\n",
       "      <td>-8.833</td>\n",
       "      <td>Major</td>\n",
       "      <td>0.2020</td>\n",
       "      <td>73.830</td>\n",
       "      <td>4-Apr</td>\n",
       "      <td>0.121</td>\n",
       "    </tr>\n",
       "  </tbody>\n",
       "</table>\n",
       "</div>"
      ],
      "text/plain": [
       "   instance_id            track_name  acousticness  danceability  duration_ms  \\\n",
       "0        48564  Low Class Conspiracy      0.301000         0.757     146213.0   \n",
       "1        72394            The Hunter      0.538000         0.256     240360.0   \n",
       "2        88081           Hate Me Now      0.005830         0.678     284000.0   \n",
       "3        78331    Somebody Ain't You      0.020300         0.592     177354.0   \n",
       "4        72636            Sour Mango      0.000335         0.421         -1.0   \n",
       "\n",
       "   energy  instrumentalness key  liveness  loudness   mode  speechiness  \\\n",
       "0   0.679           0.00000  A#    0.3030    -7.136  Minor       0.3560   \n",
       "1   0.523           0.00832  G#    0.0849    -5.175  Major       0.0294   \n",
       "2   0.770           0.00000   A    0.1090    -4.399  Minor       0.2220   \n",
       "3   0.749           0.00000   B    0.1220    -4.604  Major       0.0483   \n",
       "4   0.447           0.01480   D    0.0374    -8.833  Major       0.2020   \n",
       "\n",
       "     tempo obtained_date  valence  \n",
       "0   90.361         4-Apr    0.895  \n",
       "1   78.385         4-Apr    0.318  \n",
       "2   90.000         4-Apr    0.412  \n",
       "3  160.046         4-Apr    0.614  \n",
       "4   73.830         4-Apr    0.121  "
      ]
     },
     "execution_count": 168,
     "metadata": {},
     "output_type": "execute_result"
    }
   ],
   "source": [
    "# Выводим первые 5 строк data_test\n",
    "data_test.head()"
   ]
  },
  {
   "cell_type": "code",
   "execution_count": 169,
   "id": "799cd237",
   "metadata": {},
   "outputs": [
    {
     "name": "stdout",
     "output_type": "stream",
     "text": [
      "<class 'pandas.core.frame.DataFrame'>\n",
      "RangeIndex: 20394 entries, 0 to 20393\n",
      "Data columns (total 16 columns):\n",
      " #   Column            Non-Null Count  Dtype  \n",
      "---  ------            --------------  -----  \n",
      " 0   instance_id       20394 non-null  float64\n",
      " 1   track_name        20394 non-null  object \n",
      " 2   acousticness      20394 non-null  float64\n",
      " 3   danceability      20394 non-null  float64\n",
      " 4   duration_ms       20394 non-null  float64\n",
      " 5   energy            20394 non-null  float64\n",
      " 6   instrumentalness  20394 non-null  float64\n",
      " 7   key               19659 non-null  object \n",
      " 8   liveness          20394 non-null  float64\n",
      " 9   loudness          20394 non-null  float64\n",
      " 10  mode              19888 non-null  object \n",
      " 11  speechiness       20394 non-null  float64\n",
      " 12  tempo             19952 non-null  float64\n",
      " 13  obtained_date     20394 non-null  object \n",
      " 14  valence           20394 non-null  float64\n",
      " 15  music_genre       20394 non-null  object \n",
      "dtypes: float64(11), object(5)\n",
      "memory usage: 2.5+ MB\n"
     ]
    }
   ],
   "source": [
    "#Смотрим на данные data_train методом info()\n",
    "data_train.info()"
   ]
  },
  {
   "cell_type": "code",
   "execution_count": 170,
   "id": "eab9373e",
   "metadata": {},
   "outputs": [
    {
     "name": "stdout",
     "output_type": "stream",
     "text": [
      "<class 'pandas.core.frame.DataFrame'>\n",
      "RangeIndex: 5099 entries, 0 to 5098\n",
      "Data columns (total 15 columns):\n",
      " #   Column            Non-Null Count  Dtype  \n",
      "---  ------            --------------  -----  \n",
      " 0   instance_id       5099 non-null   int64  \n",
      " 1   track_name        5099 non-null   object \n",
      " 2   acousticness      5099 non-null   float64\n",
      " 3   danceability      5099 non-null   float64\n",
      " 4   duration_ms       5099 non-null   float64\n",
      " 5   energy            5099 non-null   float64\n",
      " 6   instrumentalness  5099 non-null   float64\n",
      " 7   key               4941 non-null   object \n",
      " 8   liveness          5099 non-null   float64\n",
      " 9   loudness          5099 non-null   float64\n",
      " 10  mode              4950 non-null   object \n",
      " 11  speechiness       5099 non-null   float64\n",
      " 12  tempo             4978 non-null   float64\n",
      " 13  obtained_date     5099 non-null   object \n",
      " 14  valence           5099 non-null   float64\n",
      "dtypes: float64(10), int64(1), object(4)\n",
      "memory usage: 597.7+ KB\n"
     ]
    }
   ],
   "source": [
    "#Смотрим на данные data_test методом info()\n",
    "data_test.info()"
   ]
  },
  {
   "cell_type": "markdown",
   "id": "90beae32",
   "metadata": {},
   "source": [
    "**Вывод по разделу 1. Загрузка и ознакомление с данными**\n",
    "\n",
    "После первичного / поверхностного ознакомления с данными в обоих датасетах можно выделить следующие моменты:\n",
    "\n",
    "- В обучающем датасете у нас 20394 записей и 16 полей, тогда как тестовый датасет состоит из 5099 записей и 15 полей;\n",
    "- Разница в количестве полей между обучающим и тестовым датасетами заключается в том, что поле music_genre является целевым признаком, следовательно его то мы и должны получать, обучив нашу модель на тренировочных данных и проверив результат на тестовом датасете;\n",
    "- Невооруженным взглядом видно, что оба датасета имееют моменты, которые необходимо исправить, например поле instance_id имеет разный тип данных в обучающем и тестовом датасетах, также поле key в некоторых значениях содержат знак #, что возможно является некорректным обозначением, также необходимо поразамышлять в контексте задачи какие поля могут быть удалены, например поле obtained_date указывает на дату загрузки в сервис, учитывая задачу классифиции музыкальных произведений по жанрам, требуется ли нам данная информация?\n",
    "- Дополнительно, мы видим, что в полях key, mode, tempo присутствуют пропуски в обоих датасетах, необходимо проверить эти поля, а также проеврить все поля на наличие неявных дубликатов;\n",
    "- Что касается названия полей, то они приведены в корректном змеином формате, здесь исправления не нужны;\n",
    "\n",
    "Переходим к следующему этапу Предварительной обработке данных."
   ]
  },
  {
   "cell_type": "markdown",
   "id": "522d9d77",
   "metadata": {},
   "source": [
    "## Предварительная обработка данных"
   ]
  },
  {
   "cell_type": "markdown",
   "id": "7015d7fe",
   "metadata": {},
   "source": [
    "**2.1 Изменение типов данных полей**"
   ]
  },
  {
   "cell_type": "code",
   "execution_count": 171,
   "id": "d57f63ef",
   "metadata": {},
   "outputs": [],
   "source": [
    "# Изменяем типы данных на целочисленный int в обучающем датасете, создав список из полей\n",
    "int_cols_train = ['instance_id', 'duration_ms']\n",
    "data_train[int_cols_train] = data_train[int_cols_train].astype(int)\n",
    "\n",
    "# Изменяем поле duration_ms на целочисленный int в тестовом датасете\n",
    "data_test['duration_ms'] = data_test['duration_ms'].astype(int)\n"
   ]
  },
  {
   "cell_type": "markdown",
   "id": "0488715d",
   "metadata": {},
   "source": [
    "**2.2 Удаление ненужных полей**\n",
    "\n",
    "После более глубокого изучения Описания полей данных, учитывая поставленную задачу, было принято решение в удалении полей obtained_date и track_name как ненужные, которые могут ухудщать обучение моделей."
   ]
  },
  {
   "cell_type": "code",
   "execution_count": 172,
   "id": "42bcef07",
   "metadata": {},
   "outputs": [],
   "source": [
    "# Удаляем поля, создав список и передав его функции drop в обоих датасетах\n",
    "\n",
    "cols_to_drop = ['obtained_date', 'track_name']\n",
    "data_train = data_train.drop(cols_to_drop, axis=1)\n",
    "data_test = data_test.drop(cols_to_drop, axis=1)"
   ]
  },
  {
   "cell_type": "code",
   "execution_count": 173,
   "id": "be603e15",
   "metadata": {},
   "outputs": [
    {
     "name": "stdout",
     "output_type": "stream",
     "text": [
      "<class 'pandas.core.frame.DataFrame'>\n",
      "RangeIndex: 20394 entries, 0 to 20393\n",
      "Data columns (total 14 columns):\n",
      " #   Column            Non-Null Count  Dtype  \n",
      "---  ------            --------------  -----  \n",
      " 0   instance_id       20394 non-null  int64  \n",
      " 1   acousticness      20394 non-null  float64\n",
      " 2   danceability      20394 non-null  float64\n",
      " 3   duration_ms       20394 non-null  int64  \n",
      " 4   energy            20394 non-null  float64\n",
      " 5   instrumentalness  20394 non-null  float64\n",
      " 6   key               19659 non-null  object \n",
      " 7   liveness          20394 non-null  float64\n",
      " 8   loudness          20394 non-null  float64\n",
      " 9   mode              19888 non-null  object \n",
      " 10  speechiness       20394 non-null  float64\n",
      " 11  tempo             19952 non-null  float64\n",
      " 12  valence           20394 non-null  float64\n",
      " 13  music_genre       20394 non-null  object \n",
      "dtypes: float64(9), int64(2), object(3)\n",
      "memory usage: 2.2+ MB\n"
     ]
    }
   ],
   "source": [
    "#Проверяем, сделанные предобразования в обучающем датасете методом info()\n",
    "data_train.info()"
   ]
  },
  {
   "cell_type": "code",
   "execution_count": 174,
   "id": "2cd646d9",
   "metadata": {},
   "outputs": [
    {
     "name": "stdout",
     "output_type": "stream",
     "text": [
      "<class 'pandas.core.frame.DataFrame'>\n",
      "RangeIndex: 5099 entries, 0 to 5098\n",
      "Data columns (total 13 columns):\n",
      " #   Column            Non-Null Count  Dtype  \n",
      "---  ------            --------------  -----  \n",
      " 0   instance_id       5099 non-null   int64  \n",
      " 1   acousticness      5099 non-null   float64\n",
      " 2   danceability      5099 non-null   float64\n",
      " 3   duration_ms       5099 non-null   int64  \n",
      " 4   energy            5099 non-null   float64\n",
      " 5   instrumentalness  5099 non-null   float64\n",
      " 6   key               4941 non-null   object \n",
      " 7   liveness          5099 non-null   float64\n",
      " 8   loudness          5099 non-null   float64\n",
      " 9   mode              4950 non-null   object \n",
      " 10  speechiness       5099 non-null   float64\n",
      " 11  tempo             4978 non-null   float64\n",
      " 12  valence           5099 non-null   float64\n",
      "dtypes: float64(9), int64(2), object(2)\n",
      "memory usage: 518.0+ KB\n"
     ]
    }
   ],
   "source": [
    "#Проверяем, сделанные предобразования в тестовом датасете методом info()\n",
    "data_test.info()"
   ]
  },
  {
   "cell_type": "markdown",
   "id": "67a4ecef",
   "metadata": {},
   "source": [
    "**2.3 Проверка данных на наличие пропусков, явных и неявных дубликатов, а также заполнение этих значений**"
   ]
  },
  {
   "cell_type": "code",
   "execution_count": 175,
   "id": "283b5e3b",
   "metadata": {},
   "outputs": [],
   "source": [
    "# Создадим функцию для вывода обоих показателей\n",
    "def nas_duplicates(data):\n",
    "    print(\"Количество пропусков: \", data.isna().sum().sum())\n",
    "    print(\"Дубликаты: \", data.duplicated().sum())"
   ]
  },
  {
   "cell_type": "code",
   "execution_count": 176,
   "id": "a0cb6809",
   "metadata": {},
   "outputs": [
    {
     "name": "stdout",
     "output_type": "stream",
     "text": [
      "Количество пропусков:  1683\n",
      "Дубликаты:  0\n"
     ]
    }
   ],
   "source": [
    "# Выводим значения пропусков и явных дубликатов в обучающем датасете\n",
    "nas_duplicates(data_train)"
   ]
  },
  {
   "cell_type": "code",
   "execution_count": 177,
   "id": "0b5c292b",
   "metadata": {},
   "outputs": [
    {
     "name": "stdout",
     "output_type": "stream",
     "text": [
      "Количество пропусков:  428\n",
      "Дубликаты:  0\n"
     ]
    }
   ],
   "source": [
    "# Выводим значения пропусков и явных дубликатов в тестовом датасете\n",
    "nas_duplicates(data_test)"
   ]
  },
  {
   "cell_type": "code",
   "execution_count": 178,
   "id": "b185bca6",
   "metadata": {},
   "outputs": [
    {
     "name": "stdout",
     "output_type": "stream",
     "text": [
      "instance_id         0.000000\n",
      "acousticness        0.000000\n",
      "danceability        0.000000\n",
      "duration_ms         0.000000\n",
      "energy              0.000000\n",
      "instrumentalness    0.000000\n",
      "key                 3.604001\n",
      "liveness            0.000000\n",
      "loudness            0.000000\n",
      "mode                2.481122\n",
      "speechiness         0.000000\n",
      "tempo               2.167304\n",
      "valence             0.000000\n",
      "music_genre         0.000000\n",
      "dtype: float64\n"
     ]
    }
   ],
   "source": [
    "# Считаем процент пропусков в обучающем датасете\n",
    "print(data_train.isnull().sum() / len(data_train) * 100)"
   ]
  },
  {
   "cell_type": "code",
   "execution_count": 179,
   "id": "7a380952",
   "metadata": {},
   "outputs": [
    {
     "name": "stdout",
     "output_type": "stream",
     "text": [
      "instance_id         0.000000\n",
      "acousticness        0.000000\n",
      "danceability        0.000000\n",
      "duration_ms         0.000000\n",
      "energy              0.000000\n",
      "instrumentalness    0.000000\n",
      "key                 3.098647\n",
      "liveness            0.000000\n",
      "loudness            0.000000\n",
      "mode                2.922142\n",
      "speechiness         0.000000\n",
      "tempo               2.373014\n",
      "valence             0.000000\n",
      "dtype: float64\n"
     ]
    }
   ],
   "source": [
    "# Считаем процент пропусков в тестовом датасете\n",
    "print(data_test.isnull().sum() / len(data_test) * 100)"
   ]
  },
  {
   "cell_type": "markdown",
   "id": "0b1a0394",
   "metadata": {},
   "source": [
    "Итак, в наших датасетах присутствуют как пропуски. Явных дубликатов мы не обнаружили.\n",
    "Как мы уже раньше выявили, пропуски присутствуют в таких полях как key (3% пропусков), mode (2% пропусков) и tempo (2% пропусков). Посмотрим на эти поля более детально."
   ]
  },
  {
   "cell_type": "code",
   "execution_count": 180,
   "id": "a281fd24",
   "metadata": {},
   "outputs": [
    {
     "data": {
      "text/plain": [
       "array(['D', 'A', 'E', 'G#', 'C', 'D#', 'A#', 'F', 'F#', nan, 'G', 'C#',\n",
       "       'B'], dtype=object)"
      ]
     },
     "execution_count": 180,
     "metadata": {},
     "output_type": "execute_result"
    }
   ],
   "source": [
    "# Посмотрим на уникальные значения поля key в обучающем датасете\n",
    "data_train['key'].unique()"
   ]
  },
  {
   "cell_type": "code",
   "execution_count": 181,
   "id": "bcaa4b4d",
   "metadata": {},
   "outputs": [
    {
     "data": {
      "text/plain": [
       "array(['A#', 'G#', 'A', 'B', 'D', 'F#', 'F', 'G', 'C', nan, 'D#', 'C#',\n",
       "       'E'], dtype=object)"
      ]
     },
     "execution_count": 181,
     "metadata": {},
     "output_type": "execute_result"
    }
   ],
   "source": [
    "# Посмотрим на уникальные значения поля key в тестовом датасете\n",
    "data_test['key'].unique()"
   ]
  },
  {
   "cell_type": "code",
   "execution_count": 182,
   "id": "5bff25d7",
   "metadata": {},
   "outputs": [
    {
     "name": "stdout",
     "output_type": "stream",
     "text": [
      "    data_train  data_test\n",
      "G         2304        527\n",
      "C         2149        530\n",
      "C#        2125        495\n",
      "D         2110        557\n",
      "A         2013        465\n",
      "F         1616        464\n",
      "B         1522        397\n",
      "E         1516        349\n",
      "G#        1268        314\n",
      "A#        1224        354\n",
      "F#        1206        333\n",
      "D#         606        156\n"
     ]
    }
   ],
   "source": [
    "# Сравним совпадают ли уникальные значения в двух датасетах методом value_counts и конкатенацией\n",
    "unique_values_train = data_train['key'].value_counts()\n",
    "unique_values_test = data_test['key'].value_counts()\n",
    "\n",
    "# Конкатенация результатов\n",
    "combined_counts = pd.concat([unique_values_train, unique_values_test], axis=1, keys=['data_train', 'data_test'])\n",
    "print(combined_counts)"
   ]
  },
  {
   "cell_type": "code",
   "execution_count": 183,
   "id": "165ff386",
   "metadata": {},
   "outputs": [
    {
     "data": {
      "text/plain": [
       "instance_id           0\n",
       "acousticness          0\n",
       "danceability          0\n",
       "duration_ms           0\n",
       "energy                0\n",
       "instrumentalness      0\n",
       "key                 735\n",
       "liveness              0\n",
       "loudness              0\n",
       "mode                506\n",
       "speechiness           0\n",
       "tempo               442\n",
       "valence               0\n",
       "music_genre           0\n",
       "dtype: int64"
      ]
     },
     "execution_count": 183,
     "metadata": {},
     "output_type": "execute_result"
    }
   ],
   "source": [
    "# Посмотрим на количество пропусков по каждому полю в обучающем датасете\n",
    "data_train.isna().sum()"
   ]
  },
  {
   "cell_type": "code",
   "execution_count": 184,
   "id": "771a232a",
   "metadata": {},
   "outputs": [
    {
     "data": {
      "text/plain": [
       "instance_id           0\n",
       "acousticness          0\n",
       "danceability          0\n",
       "duration_ms           0\n",
       "energy                0\n",
       "instrumentalness      0\n",
       "key                 158\n",
       "liveness              0\n",
       "loudness              0\n",
       "mode                149\n",
       "speechiness           0\n",
       "tempo               121\n",
       "valence               0\n",
       "dtype: int64"
      ]
     },
     "execution_count": 184,
     "metadata": {},
     "output_type": "execute_result"
    }
   ],
   "source": [
    "# Посмотрим на количество пропусков по каждому полю в тестовом датасете\n",
    "data_test.isna().sum()"
   ]
  },
  {
   "cell_type": "code",
   "execution_count": 185,
   "id": "135e630a",
   "metadata": {},
   "outputs": [
    {
     "data": {
      "text/plain": [
       "array(['Major', 'Minor', nan], dtype=object)"
      ]
     },
     "execution_count": 185,
     "metadata": {},
     "output_type": "execute_result"
    }
   ],
   "source": [
    "# Посмотрим на уникальные значения поля mode в обучающем датасете\n",
    "data_train['mode'].unique()"
   ]
  },
  {
   "cell_type": "code",
   "execution_count": 186,
   "id": "a259d1a7",
   "metadata": {},
   "outputs": [
    {
     "data": {
      "text/plain": [
       "array(['Minor', 'Major', nan], dtype=object)"
      ]
     },
     "execution_count": 186,
     "metadata": {},
     "output_type": "execute_result"
    }
   ],
   "source": [
    "# Посмотрим на уникальные значения поля mode в тестовом датасете\n",
    "data_test['mode'].unique()"
   ]
  },
  {
   "cell_type": "code",
   "execution_count": 187,
   "id": "954c5fea",
   "metadata": {},
   "outputs": [
    {
     "data": {
      "text/plain": [
       "array([101.384, 113.071,  80.98 , ...,  87.413,  76.879, 146.803])"
      ]
     },
     "execution_count": 187,
     "metadata": {},
     "output_type": "execute_result"
    }
   ],
   "source": [
    "# Посмотрим на уникальные значения поля tempo в обучающем датасете\n",
    "data_train['tempo'].unique()"
   ]
  },
  {
   "cell_type": "markdown",
   "id": "7204d3e9",
   "metadata": {},
   "source": [
    "По результатам более глубокого изучения полей key, mode и tempo мы получили следующие результаты:\n",
    "\n",
    "**1. Поле key**\n",
    "\n",
    "Изучив открытые источники по теме \"музыка\", была найдена информация, что знаком решетки (#) обозначается ДИЕЗ, что означает повышение ноты на полутон (или можно еще сказать на половину тона).\n",
    "Источник: https://muz-teoretik.ru/diez-bemol-i-bekar-znaki-alteracii-v-muzyke/\n",
    "Поэтому, в данном поле присутствуют только пропуски (735 в обучающем и 158 в тестовом датасете). Что касается дубликатов, то они отсутствуют, все значения являются уникальными.\n",
    "\n",
    "**2. Поле mode**\n",
    "\n",
    "В данном поле присутствуют только пропуски в количестве 506 в обучающем датасете и 149 в тестовом, соответственно. Уникальных значений 3 (Minor, Major и nan).\n",
    "\n",
    "**3. Поле tempo**\n",
    "\n",
    "Данное поле содержит информацию о Темпе трека в ударах в минуту (BPM). Это означает, данные в основном уникальные, но и повторяющиеся значения имеют место быть. Поэтому здесь обращаем внимание только на пропуски, которых мы насчитали 442 в обучающем датасете и 121 в тестовом датасете, соответственно.\n",
    "\n",
    "Несмотря на то, что доля пропусков в полях key (3% пропусков), mode (2% пропусков) и tempo (2% пропусков) не существенное, удалять мы их не будем, поэтому следующим шагом нам необходимо заполнить их, но перед этим необходимо избавиться от выявленных дубликатов в количестве 7 строк в обучающем датасете и 30 строк в тестовом датасете (удаление 37 строк не окажет сильного влияния на качество обучение моделей поскольку количество не такое большое).\n"
   ]
  },
  {
   "cell_type": "code",
   "execution_count": 188,
   "id": "f2f7e43b",
   "metadata": {},
   "outputs": [
    {
     "data": {
      "text/html": [
       "<div>\n",
       "<style scoped>\n",
       "    .dataframe tbody tr th:only-of-type {\n",
       "        vertical-align: middle;\n",
       "    }\n",
       "\n",
       "    .dataframe tbody tr th {\n",
       "        vertical-align: top;\n",
       "    }\n",
       "\n",
       "    .dataframe thead th {\n",
       "        text-align: right;\n",
       "    }\n",
       "</style>\n",
       "<table border=\"1\" class=\"dataframe\">\n",
       "  <thead>\n",
       "    <tr style=\"text-align: right;\">\n",
       "      <th></th>\n",
       "      <th>instance_id</th>\n",
       "      <th>acousticness</th>\n",
       "      <th>danceability</th>\n",
       "      <th>duration_ms</th>\n",
       "      <th>energy</th>\n",
       "      <th>instrumentalness</th>\n",
       "      <th>key</th>\n",
       "      <th>liveness</th>\n",
       "      <th>loudness</th>\n",
       "      <th>mode</th>\n",
       "      <th>speechiness</th>\n",
       "      <th>tempo</th>\n",
       "      <th>valence</th>\n",
       "      <th>music_genre</th>\n",
       "    </tr>\n",
       "  </thead>\n",
       "  <tbody>\n",
       "  </tbody>\n",
       "</table>\n",
       "</div>"
      ],
      "text/plain": [
       "Empty DataFrame\n",
       "Columns: [instance_id, acousticness, danceability, duration_ms, energy, instrumentalness, key, liveness, loudness, mode, speechiness, tempo, valence, music_genre]\n",
       "Index: []"
      ]
     },
     "execution_count": 188,
     "metadata": {},
     "output_type": "execute_result"
    }
   ],
   "source": [
    "# Выведем строки - дубликаты в обучающем датасете\n",
    "data_train[data_train.duplicated()]\n"
   ]
  },
  {
   "cell_type": "code",
   "execution_count": 189,
   "id": "b5996d00",
   "metadata": {},
   "outputs": [
    {
     "data": {
      "text/html": [
       "<div>\n",
       "<style scoped>\n",
       "    .dataframe tbody tr th:only-of-type {\n",
       "        vertical-align: middle;\n",
       "    }\n",
       "\n",
       "    .dataframe tbody tr th {\n",
       "        vertical-align: top;\n",
       "    }\n",
       "\n",
       "    .dataframe thead th {\n",
       "        text-align: right;\n",
       "    }\n",
       "</style>\n",
       "<table border=\"1\" class=\"dataframe\">\n",
       "  <thead>\n",
       "    <tr style=\"text-align: right;\">\n",
       "      <th></th>\n",
       "      <th>instance_id</th>\n",
       "      <th>acousticness</th>\n",
       "      <th>danceability</th>\n",
       "      <th>duration_ms</th>\n",
       "      <th>energy</th>\n",
       "      <th>instrumentalness</th>\n",
       "      <th>key</th>\n",
       "      <th>liveness</th>\n",
       "      <th>loudness</th>\n",
       "      <th>mode</th>\n",
       "      <th>speechiness</th>\n",
       "      <th>tempo</th>\n",
       "      <th>valence</th>\n",
       "    </tr>\n",
       "  </thead>\n",
       "  <tbody>\n",
       "  </tbody>\n",
       "</table>\n",
       "</div>"
      ],
      "text/plain": [
       "Empty DataFrame\n",
       "Columns: [instance_id, acousticness, danceability, duration_ms, energy, instrumentalness, key, liveness, loudness, mode, speechiness, tempo, valence]\n",
       "Index: []"
      ]
     },
     "execution_count": 189,
     "metadata": {},
     "output_type": "execute_result"
    }
   ],
   "source": [
    "# Выведем строки - дубликаты в тестовом датасете\n",
    "data_test[data_test.duplicated()]"
   ]
  },
  {
   "cell_type": "code",
   "execution_count": 190,
   "id": "15b9afd9",
   "metadata": {},
   "outputs": [],
   "source": [
    "# Удаляем дубликаты в обоих датасетах\n",
    "data_train.drop_duplicates(inplace=True)\n",
    "data_test.drop_duplicates(inplace=True)"
   ]
  },
  {
   "cell_type": "code",
   "execution_count": 191,
   "id": "bec6dd1b",
   "metadata": {},
   "outputs": [],
   "source": [
    "# Теперь заменяем пропуски в полях key и mode в обоих датасетах на значение unknown\n",
    "fill_values = {'key': 'unknown', 'mode': 'unknown'}\n",
    "data_train.fillna(value=fill_values, inplace=True)\n",
    "data_test.fillna(value=fill_values, inplace=True)"
   ]
  },
  {
   "cell_type": "code",
   "execution_count": 192,
   "id": "f596a359",
   "metadata": {},
   "outputs": [],
   "source": [
    "# В поле tempo мы заменим пропуски в обоих датасетах средним значением\n",
    "# Важный момент - мы заполняем пропуски в тестовом датасете средним значением\n",
    "# из обучающего датасета, так как данных там больше и медианное значение более корректное\n",
    "data_train['tempo'].fillna(data_train['tempo'].mean(), inplace=True)\n",
    "data_test['tempo'].fillna(data_train['tempo'].mean(), inplace=True)"
   ]
  },
  {
   "cell_type": "markdown",
   "id": "51e4f1cb",
   "metadata": {},
   "source": [
    "<div style=\"background: #B0E0E6; padding: 5px; border: 1px solid SteelBlue; border-radius: 5px;\">\n",
    "    <font color='4682B4'><u><b>ВОПРОС СТУДЕНТА</b></u></font>\n",
    "    <br />\n",
    "    <font color='4682B4'>\n",
    "    \n",
    "Изначально заменил пропуски в поле tempo на медианное значение, но после заполнения пропусков на среднее значение, результат в Kagle улучшился. Интересно узнать твое мнение. Спасибо заранее"
   ]
  },
  {
   "cell_type": "code",
   "execution_count": 193,
   "id": "125bd901",
   "metadata": {},
   "outputs": [
    {
     "name": "stdout",
     "output_type": "stream",
     "text": [
      "Количество пропусков:  0\n",
      "Дубликаты:  0\n"
     ]
    }
   ],
   "source": [
    "# Проверяем наличие дубликатов и пропусков в обучающем датасете после преобразования\n",
    "nas_duplicates(data_train)"
   ]
  },
  {
   "cell_type": "code",
   "execution_count": 194,
   "id": "72f6d79b",
   "metadata": {},
   "outputs": [
    {
     "name": "stdout",
     "output_type": "stream",
     "text": [
      "Количество пропусков:  0\n",
      "Дубликаты:  0\n"
     ]
    }
   ],
   "source": [
    "# Проверяем наличие дубликатов и пропусков в тестовом датасете после преобразования\n",
    "nas_duplicates(data_test)"
   ]
  },
  {
   "cell_type": "code",
   "execution_count": 195,
   "id": "c3079e71",
   "metadata": {},
   "outputs": [
    {
     "data": {
      "text/plain": [
       "Blues          2858\n",
       "Alternative    2601\n",
       "Electronic     2564\n",
       "Rap            2428\n",
       "Rock           2165\n",
       "Country        2120\n",
       "Anime          1901\n",
       "Classical      1373\n",
       "Jazz           1239\n",
       "Hip-Hop        1145\n",
       "Name: music_genre, dtype: int64"
      ]
     },
     "execution_count": 195,
     "metadata": {},
     "output_type": "execute_result"
    }
   ],
   "source": [
    "# Также, на всякий случай посмотрим не уникальные значения нашего целевого признака music_genre\n",
    "# в обучающем датасете\n",
    "data_train['music_genre'].value_counts()\n"
   ]
  },
  {
   "cell_type": "markdown",
   "id": "84de5102",
   "metadata": {},
   "source": [
    "В поле music_genre присутствует 10 уникальных классов жанров музыки, дубликатов не обнаружено."
   ]
  },
  {
   "cell_type": "markdown",
   "id": "e9f4a972",
   "metadata": {},
   "source": [
    "**Вывод по разделу 2. Предварительная обработка данных**\n",
    "\n",
    "По результатам Предварительной обработки данных мы удалили два поля (obtained_at и track_name), определив их как поля с ненужной информацией, которая будет пагубно влиять на обучение моделей. Также мы избавились от пропусков (1683 в обучающем датасете и 428 в тестовом) и дубликатов (7 в обучающем датасете и 30 в тестовом датасете). Неявных дубликатов обнаружено не было. В категориальных полях key и mode мы заменили пропуски на значение unknown. В поле с численными данными tempo мы заменили пропуски на медианное значение.\n",
    "\n",
    "Следующим шагом переходим к Разведочному анализу данных (EDA)."
   ]
  },
  {
   "cell_type": "markdown",
   "id": "2cb55251",
   "metadata": {},
   "source": [
    "## Разведочный анализ данных (EDA)"
   ]
  },
  {
   "cell_type": "markdown",
   "id": "b8c355db",
   "metadata": {},
   "source": [
    "Первым делом посмотрим на корреляцию полей / признаков к нашему целевому признаку music_genre с помощью тепловой карты, а также в табличном вырианте. Для того чтобы сформировать данные корреляции, необходимо закодировать категориальные данные в числовые, а именно поля key, mode и целевой признак music_genre. Для этой задачи будем использовать LabelEncoder из библиотеки sklearn. Опять же важный момент - здесь также кодирование в тестовом наборе данных должно производиться с помощью экземпляра кодера, который был настроен на обучающем наборе данных, тот же прием, что и при заполнении пропусков медианным значением."
   ]
  },
  {
   "cell_type": "markdown",
   "id": "2006254d",
   "metadata": {},
   "source": [
    "**3.1 Кодирование категориальных данных в числовые**"
   ]
  },
  {
   "cell_type": "code",
   "execution_count": 196,
   "id": "4f40c7b3",
   "metadata": {},
   "outputs": [],
   "source": [
    "# Кодируем категориальные данные в полях key и mode в числовые в обучающем датасете\n",
    "# Создаем кодеры\n",
    "label_encoded_key = LabelEncoder()\n",
    "label_encoded_mode = LabelEncoder()\n",
    "label_encoded_mg = LabelEncoder()\n",
    "\n",
    "# Кодируем данные в поле key в обоих датасетах\n",
    "data_train['key'] = label_encoded_key.fit_transform(data_train['key'])\n",
    "data_test['key'] = label_encoded_key.transform(data_test['key'])\n",
    "\n",
    "# Кодируем данные в поле mode в обоих датасетах\n",
    "data_train['mode'] = label_encoded_mode.fit_transform(data_train['mode'])\n",
    "data_test['mode'] = label_encoded_mode.transform(data_test['mode'])\n",
    "\n",
    "# Кодируем данные в поле music_genre в обучающем датасете\n",
    "data_train['music_genre'] = label_encoded_mg.fit_transform(data_train['music_genre'])\n"
   ]
  },
  {
   "cell_type": "code",
   "execution_count": 197,
   "id": "72bffb11",
   "metadata": {},
   "outputs": [
    {
     "data": {
      "text/html": [
       "<div>\n",
       "<style scoped>\n",
       "    .dataframe tbody tr th:only-of-type {\n",
       "        vertical-align: middle;\n",
       "    }\n",
       "\n",
       "    .dataframe tbody tr th {\n",
       "        vertical-align: top;\n",
       "    }\n",
       "\n",
       "    .dataframe thead th {\n",
       "        text-align: right;\n",
       "    }\n",
       "</style>\n",
       "<table border=\"1\" class=\"dataframe\">\n",
       "  <thead>\n",
       "    <tr style=\"text-align: right;\">\n",
       "      <th></th>\n",
       "      <th>instance_id</th>\n",
       "      <th>acousticness</th>\n",
       "      <th>danceability</th>\n",
       "      <th>duration_ms</th>\n",
       "      <th>energy</th>\n",
       "      <th>instrumentalness</th>\n",
       "      <th>key</th>\n",
       "      <th>liveness</th>\n",
       "      <th>loudness</th>\n",
       "      <th>mode</th>\n",
       "      <th>speechiness</th>\n",
       "      <th>tempo</th>\n",
       "      <th>valence</th>\n",
       "      <th>music_genre</th>\n",
       "    </tr>\n",
       "  </thead>\n",
       "  <tbody>\n",
       "    <tr>\n",
       "      <th>0</th>\n",
       "      <td>25143</td>\n",
       "      <td>0.4800</td>\n",
       "      <td>0.670</td>\n",
       "      <td>182653</td>\n",
       "      <td>0.351</td>\n",
       "      <td>0.017600</td>\n",
       "      <td>5</td>\n",
       "      <td>0.115</td>\n",
       "      <td>-16.842</td>\n",
       "      <td>0</td>\n",
       "      <td>0.0463</td>\n",
       "      <td>101.384</td>\n",
       "      <td>0.450</td>\n",
       "      <td>4</td>\n",
       "    </tr>\n",
       "    <tr>\n",
       "      <th>1</th>\n",
       "      <td>26091</td>\n",
       "      <td>0.2430</td>\n",
       "      <td>0.452</td>\n",
       "      <td>187133</td>\n",
       "      <td>0.670</td>\n",
       "      <td>0.000051</td>\n",
       "      <td>0</td>\n",
       "      <td>0.108</td>\n",
       "      <td>-8.392</td>\n",
       "      <td>1</td>\n",
       "      <td>0.0352</td>\n",
       "      <td>113.071</td>\n",
       "      <td>0.539</td>\n",
       "      <td>9</td>\n",
       "    </tr>\n",
       "    <tr>\n",
       "      <th>2</th>\n",
       "      <td>87888</td>\n",
       "      <td>0.2280</td>\n",
       "      <td>0.454</td>\n",
       "      <td>173448</td>\n",
       "      <td>0.804</td>\n",
       "      <td>0.000000</td>\n",
       "      <td>7</td>\n",
       "      <td>0.181</td>\n",
       "      <td>-5.225</td>\n",
       "      <td>1</td>\n",
       "      <td>0.3710</td>\n",
       "      <td>80.980</td>\n",
       "      <td>0.344</td>\n",
       "      <td>0</td>\n",
       "    </tr>\n",
       "    <tr>\n",
       "      <th>3</th>\n",
       "      <td>77021</td>\n",
       "      <td>0.0558</td>\n",
       "      <td>0.847</td>\n",
       "      <td>255987</td>\n",
       "      <td>0.873</td>\n",
       "      <td>0.000003</td>\n",
       "      <td>11</td>\n",
       "      <td>0.325</td>\n",
       "      <td>-4.805</td>\n",
       "      <td>1</td>\n",
       "      <td>0.0804</td>\n",
       "      <td>116.007</td>\n",
       "      <td>0.966</td>\n",
       "      <td>6</td>\n",
       "    </tr>\n",
       "    <tr>\n",
       "      <th>4</th>\n",
       "      <td>20852</td>\n",
       "      <td>0.2270</td>\n",
       "      <td>0.742</td>\n",
       "      <td>195333</td>\n",
       "      <td>0.575</td>\n",
       "      <td>0.000002</td>\n",
       "      <td>3</td>\n",
       "      <td>0.176</td>\n",
       "      <td>-5.550</td>\n",
       "      <td>0</td>\n",
       "      <td>0.0487</td>\n",
       "      <td>76.494</td>\n",
       "      <td>0.583</td>\n",
       "      <td>0</td>\n",
       "    </tr>\n",
       "  </tbody>\n",
       "</table>\n",
       "</div>"
      ],
      "text/plain": [
       "   instance_id  acousticness  danceability  duration_ms  energy  \\\n",
       "0        25143        0.4800         0.670       182653   0.351   \n",
       "1        26091        0.2430         0.452       187133   0.670   \n",
       "2        87888        0.2280         0.454       173448   0.804   \n",
       "3        77021        0.0558         0.847       255987   0.873   \n",
       "4        20852        0.2270         0.742       195333   0.575   \n",
       "\n",
       "   instrumentalness  key  liveness  loudness  mode  speechiness    tempo  \\\n",
       "0          0.017600    5     0.115   -16.842     0       0.0463  101.384   \n",
       "1          0.000051    0     0.108    -8.392     1       0.0352  113.071   \n",
       "2          0.000000    7     0.181    -5.225     1       0.3710   80.980   \n",
       "3          0.000003   11     0.325    -4.805     1       0.0804  116.007   \n",
       "4          0.000002    3     0.176    -5.550     0       0.0487   76.494   \n",
       "\n",
       "   valence  music_genre  \n",
       "0    0.450            4  \n",
       "1    0.539            9  \n",
       "2    0.344            0  \n",
       "3    0.966            6  \n",
       "4    0.583            0  "
      ]
     },
     "execution_count": 197,
     "metadata": {},
     "output_type": "execute_result"
    }
   ],
   "source": [
    "# Проверяем выполненную кодировку выводом первых 5 строк обучающего датасета\n",
    "data_train.head()"
   ]
  },
  {
   "cell_type": "code",
   "execution_count": 198,
   "id": "0284725a",
   "metadata": {},
   "outputs": [
    {
     "data": {
      "text/html": [
       "<div>\n",
       "<style scoped>\n",
       "    .dataframe tbody tr th:only-of-type {\n",
       "        vertical-align: middle;\n",
       "    }\n",
       "\n",
       "    .dataframe tbody tr th {\n",
       "        vertical-align: top;\n",
       "    }\n",
       "\n",
       "    .dataframe thead th {\n",
       "        text-align: right;\n",
       "    }\n",
       "</style>\n",
       "<table border=\"1\" class=\"dataframe\">\n",
       "  <thead>\n",
       "    <tr style=\"text-align: right;\">\n",
       "      <th></th>\n",
       "      <th>instance_id</th>\n",
       "      <th>acousticness</th>\n",
       "      <th>danceability</th>\n",
       "      <th>duration_ms</th>\n",
       "      <th>energy</th>\n",
       "      <th>instrumentalness</th>\n",
       "      <th>key</th>\n",
       "      <th>liveness</th>\n",
       "      <th>loudness</th>\n",
       "      <th>mode</th>\n",
       "      <th>speechiness</th>\n",
       "      <th>tempo</th>\n",
       "      <th>valence</th>\n",
       "    </tr>\n",
       "  </thead>\n",
       "  <tbody>\n",
       "    <tr>\n",
       "      <th>0</th>\n",
       "      <td>48564</td>\n",
       "      <td>0.301000</td>\n",
       "      <td>0.757</td>\n",
       "      <td>146213</td>\n",
       "      <td>0.679</td>\n",
       "      <td>0.00000</td>\n",
       "      <td>1</td>\n",
       "      <td>0.3030</td>\n",
       "      <td>-7.136</td>\n",
       "      <td>1</td>\n",
       "      <td>0.3560</td>\n",
       "      <td>90.361</td>\n",
       "      <td>0.895</td>\n",
       "    </tr>\n",
       "    <tr>\n",
       "      <th>1</th>\n",
       "      <td>72394</td>\n",
       "      <td>0.538000</td>\n",
       "      <td>0.256</td>\n",
       "      <td>240360</td>\n",
       "      <td>0.523</td>\n",
       "      <td>0.00832</td>\n",
       "      <td>11</td>\n",
       "      <td>0.0849</td>\n",
       "      <td>-5.175</td>\n",
       "      <td>0</td>\n",
       "      <td>0.0294</td>\n",
       "      <td>78.385</td>\n",
       "      <td>0.318</td>\n",
       "    </tr>\n",
       "    <tr>\n",
       "      <th>2</th>\n",
       "      <td>88081</td>\n",
       "      <td>0.005830</td>\n",
       "      <td>0.678</td>\n",
       "      <td>284000</td>\n",
       "      <td>0.770</td>\n",
       "      <td>0.00000</td>\n",
       "      <td>0</td>\n",
       "      <td>0.1090</td>\n",
       "      <td>-4.399</td>\n",
       "      <td>1</td>\n",
       "      <td>0.2220</td>\n",
       "      <td>90.000</td>\n",
       "      <td>0.412</td>\n",
       "    </tr>\n",
       "    <tr>\n",
       "      <th>3</th>\n",
       "      <td>78331</td>\n",
       "      <td>0.020300</td>\n",
       "      <td>0.592</td>\n",
       "      <td>177354</td>\n",
       "      <td>0.749</td>\n",
       "      <td>0.00000</td>\n",
       "      <td>2</td>\n",
       "      <td>0.1220</td>\n",
       "      <td>-4.604</td>\n",
       "      <td>0</td>\n",
       "      <td>0.0483</td>\n",
       "      <td>160.046</td>\n",
       "      <td>0.614</td>\n",
       "    </tr>\n",
       "    <tr>\n",
       "      <th>4</th>\n",
       "      <td>72636</td>\n",
       "      <td>0.000335</td>\n",
       "      <td>0.421</td>\n",
       "      <td>-1</td>\n",
       "      <td>0.447</td>\n",
       "      <td>0.01480</td>\n",
       "      <td>5</td>\n",
       "      <td>0.0374</td>\n",
       "      <td>-8.833</td>\n",
       "      <td>0</td>\n",
       "      <td>0.2020</td>\n",
       "      <td>73.830</td>\n",
       "      <td>0.121</td>\n",
       "    </tr>\n",
       "  </tbody>\n",
       "</table>\n",
       "</div>"
      ],
      "text/plain": [
       "   instance_id  acousticness  danceability  duration_ms  energy  \\\n",
       "0        48564      0.301000         0.757       146213   0.679   \n",
       "1        72394      0.538000         0.256       240360   0.523   \n",
       "2        88081      0.005830         0.678       284000   0.770   \n",
       "3        78331      0.020300         0.592       177354   0.749   \n",
       "4        72636      0.000335         0.421           -1   0.447   \n",
       "\n",
       "   instrumentalness  key  liveness  loudness  mode  speechiness    tempo  \\\n",
       "0           0.00000    1    0.3030    -7.136     1       0.3560   90.361   \n",
       "1           0.00832   11    0.0849    -5.175     0       0.0294   78.385   \n",
       "2           0.00000    0    0.1090    -4.399     1       0.2220   90.000   \n",
       "3           0.00000    2    0.1220    -4.604     0       0.0483  160.046   \n",
       "4           0.01480    5    0.0374    -8.833     0       0.2020   73.830   \n",
       "\n",
       "   valence  \n",
       "0    0.895  \n",
       "1    0.318  \n",
       "2    0.412  \n",
       "3    0.614  \n",
       "4    0.121  "
      ]
     },
     "execution_count": 198,
     "metadata": {},
     "output_type": "execute_result"
    }
   ],
   "source": [
    "# Проверяем выполненную кодировку выводом первых 5 строк тестового датасета\n",
    "data_test.head()"
   ]
  },
  {
   "cell_type": "markdown",
   "id": "0a52991b",
   "metadata": {},
   "source": [
    "**3.2 Изучение корреляции признаков**"
   ]
  },
  {
   "cell_type": "code",
   "execution_count": 199,
   "id": "28658435",
   "metadata": {},
   "outputs": [
    {
     "data": {
      "image/png": "[encoded data removed]",
      "text/plain": [
       "<Figure size 640x480 with 2 Axes>"
      ]
     },
     "metadata": {},
     "output_type": "display_data"
    }
   ],
   "source": [
    "# Построение тепловой карты корреляции признаков обучающего датасета\n",
    "correlation_matrix = data_train.corr()\n",
    "\n",
    "sns.heatmap(correlation_matrix, cmap='viridis')\n",
    "plt.title('Тепловая карта корреляции признаков')\n",
    "plt.show()"
   ]
  },
  {
   "cell_type": "code",
   "execution_count": 200,
   "id": "9aced15a",
   "metadata": {},
   "outputs": [
    {
     "data": {
      "text/html": [
       "<div>\n",
       "<style scoped>\n",
       "    .dataframe tbody tr th:only-of-type {\n",
       "        vertical-align: middle;\n",
       "    }\n",
       "\n",
       "    .dataframe tbody tr th {\n",
       "        vertical-align: top;\n",
       "    }\n",
       "\n",
       "    .dataframe thead th {\n",
       "        text-align: right;\n",
       "    }\n",
       "</style>\n",
       "<table border=\"1\" class=\"dataframe\">\n",
       "  <thead>\n",
       "    <tr style=\"text-align: right;\">\n",
       "      <th></th>\n",
       "      <th>instance_id</th>\n",
       "      <th>acousticness</th>\n",
       "      <th>danceability</th>\n",
       "      <th>duration_ms</th>\n",
       "      <th>energy</th>\n",
       "      <th>instrumentalness</th>\n",
       "      <th>key</th>\n",
       "      <th>liveness</th>\n",
       "      <th>loudness</th>\n",
       "      <th>mode</th>\n",
       "      <th>speechiness</th>\n",
       "      <th>tempo</th>\n",
       "      <th>valence</th>\n",
       "      <th>music_genre</th>\n",
       "    </tr>\n",
       "  </thead>\n",
       "  <tbody>\n",
       "    <tr>\n",
       "      <th>instance_id</th>\n",
       "      <td>1.000000</td>\n",
       "      <td>0.003948</td>\n",
       "      <td>-0.000881</td>\n",
       "      <td>-0.002828</td>\n",
       "      <td>0.004788</td>\n",
       "      <td>0.009771</td>\n",
       "      <td>0.003355</td>\n",
       "      <td>0.002304</td>\n",
       "      <td>-0.000079</td>\n",
       "      <td>0.004631</td>\n",
       "      <td>-0.013367</td>\n",
       "      <td>-0.011032</td>\n",
       "      <td>0.000173</td>\n",
       "      <td>-0.002357</td>\n",
       "    </tr>\n",
       "    <tr>\n",
       "      <th>acousticness</th>\n",
       "      <td>0.003948</td>\n",
       "      <td>1.000000</td>\n",
       "      <td>-0.273418</td>\n",
       "      <td>0.043788</td>\n",
       "      <td>-0.764949</td>\n",
       "      <td>0.316769</td>\n",
       "      <td>0.009435</td>\n",
       "      <td>-0.091847</td>\n",
       "      <td>-0.699716</td>\n",
       "      <td>-0.025454</td>\n",
       "      <td>-0.144587</td>\n",
       "      <td>-0.212512</td>\n",
       "      <td>-0.221677</td>\n",
       "      <td>-0.078429</td>\n",
       "    </tr>\n",
       "    <tr>\n",
       "      <th>danceability</th>\n",
       "      <td>-0.000881</td>\n",
       "      <td>-0.273418</td>\n",
       "      <td>1.000000</td>\n",
       "      <td>-0.145350</td>\n",
       "      <td>0.182730</td>\n",
       "      <td>-0.253837</td>\n",
       "      <td>-0.013858</td>\n",
       "      <td>-0.080752</td>\n",
       "      <td>0.317236</td>\n",
       "      <td>0.049264</td>\n",
       "      <td>0.257981</td>\n",
       "      <td>-0.059124</td>\n",
       "      <td>0.390220</td>\n",
       "      <td>0.277984</td>\n",
       "    </tr>\n",
       "    <tr>\n",
       "      <th>duration_ms</th>\n",
       "      <td>-0.002828</td>\n",
       "      <td>0.043788</td>\n",
       "      <td>-0.145350</td>\n",
       "      <td>1.000000</td>\n",
       "      <td>-0.055477</td>\n",
       "      <td>0.141540</td>\n",
       "      <td>-0.009097</td>\n",
       "      <td>0.037041</td>\n",
       "      <td>-0.096941</td>\n",
       "      <td>0.005898</td>\n",
       "      <td>-0.082702</td>\n",
       "      <td>-0.041173</td>\n",
       "      <td>-0.126988</td>\n",
       "      <td>-0.022059</td>\n",
       "    </tr>\n",
       "    <tr>\n",
       "      <th>energy</th>\n",
       "      <td>0.004788</td>\n",
       "      <td>-0.764949</td>\n",
       "      <td>0.182730</td>\n",
       "      <td>-0.055477</td>\n",
       "      <td>1.000000</td>\n",
       "      <td>-0.319971</td>\n",
       "      <td>-0.007379</td>\n",
       "      <td>0.176778</td>\n",
       "      <td>0.821801</td>\n",
       "      <td>0.011247</td>\n",
       "      <td>0.150511</td>\n",
       "      <td>0.247982</td>\n",
       "      <td>0.347967</td>\n",
       "      <td>0.011156</td>\n",
       "    </tr>\n",
       "    <tr>\n",
       "      <th>instrumentalness</th>\n",
       "      <td>0.009771</td>\n",
       "      <td>0.316769</td>\n",
       "      <td>-0.253837</td>\n",
       "      <td>0.141540</td>\n",
       "      <td>-0.319971</td>\n",
       "      <td>1.000000</td>\n",
       "      <td>0.001967</td>\n",
       "      <td>-0.063769</td>\n",
       "      <td>-0.481391</td>\n",
       "      <td>0.055855</td>\n",
       "      <td>-0.176950</td>\n",
       "      <td>-0.094429</td>\n",
       "      <td>-0.259960</td>\n",
       "      <td>-0.081806</td>\n",
       "    </tr>\n",
       "    <tr>\n",
       "      <th>key</th>\n",
       "      <td>0.003355</td>\n",
       "      <td>0.009435</td>\n",
       "      <td>-0.013858</td>\n",
       "      <td>-0.009097</td>\n",
       "      <td>-0.007379</td>\n",
       "      <td>0.001967</td>\n",
       "      <td>1.000000</td>\n",
       "      <td>-0.006667</td>\n",
       "      <td>0.000809</td>\n",
       "      <td>-0.039744</td>\n",
       "      <td>-0.007132</td>\n",
       "      <td>-0.000507</td>\n",
       "      <td>-0.014524</td>\n",
       "      <td>-0.015400</td>\n",
       "    </tr>\n",
       "    <tr>\n",
       "      <th>liveness</th>\n",
       "      <td>0.002304</td>\n",
       "      <td>-0.091847</td>\n",
       "      <td>-0.080752</td>\n",
       "      <td>0.037041</td>\n",
       "      <td>0.176778</td>\n",
       "      <td>-0.063769</td>\n",
       "      <td>-0.006667</td>\n",
       "      <td>1.000000</td>\n",
       "      <td>0.106557</td>\n",
       "      <td>-0.019001</td>\n",
       "      <td>0.098580</td>\n",
       "      <td>0.038479</td>\n",
       "      <td>0.037165</td>\n",
       "      <td>-0.033384</td>\n",
       "    </tr>\n",
       "    <tr>\n",
       "      <th>loudness</th>\n",
       "      <td>-0.000079</td>\n",
       "      <td>-0.699716</td>\n",
       "      <td>0.317236</td>\n",
       "      <td>-0.096941</td>\n",
       "      <td>0.821801</td>\n",
       "      <td>-0.481391</td>\n",
       "      <td>0.000809</td>\n",
       "      <td>0.106557</td>\n",
       "      <td>1.000000</td>\n",
       "      <td>0.008070</td>\n",
       "      <td>0.152085</td>\n",
       "      <td>0.217711</td>\n",
       "      <td>0.284016</td>\n",
       "      <td>0.073915</td>\n",
       "    </tr>\n",
       "    <tr>\n",
       "      <th>mode</th>\n",
       "      <td>0.004631</td>\n",
       "      <td>-0.025454</td>\n",
       "      <td>0.049264</td>\n",
       "      <td>0.005898</td>\n",
       "      <td>0.011247</td>\n",
       "      <td>0.055855</td>\n",
       "      <td>-0.039744</td>\n",
       "      <td>-0.019001</td>\n",
       "      <td>0.008070</td>\n",
       "      <td>1.000000</td>\n",
       "      <td>0.071118</td>\n",
       "      <td>-0.008290</td>\n",
       "      <td>-0.036254</td>\n",
       "      <td>0.034665</td>\n",
       "    </tr>\n",
       "    <tr>\n",
       "      <th>speechiness</th>\n",
       "      <td>-0.013367</td>\n",
       "      <td>-0.144587</td>\n",
       "      <td>0.257981</td>\n",
       "      <td>-0.082702</td>\n",
       "      <td>0.150511</td>\n",
       "      <td>-0.176950</td>\n",
       "      <td>-0.007132</td>\n",
       "      <td>0.098580</td>\n",
       "      <td>0.152085</td>\n",
       "      <td>0.071118</td>\n",
       "      <td>1.000000</td>\n",
       "      <td>0.063725</td>\n",
       "      <td>0.031579</td>\n",
       "      <td>0.190360</td>\n",
       "    </tr>\n",
       "    <tr>\n",
       "      <th>tempo</th>\n",
       "      <td>-0.011032</td>\n",
       "      <td>-0.212512</td>\n",
       "      <td>-0.059124</td>\n",
       "      <td>-0.041173</td>\n",
       "      <td>0.247982</td>\n",
       "      <td>-0.094429</td>\n",
       "      <td>-0.000507</td>\n",
       "      <td>0.038479</td>\n",
       "      <td>0.217711</td>\n",
       "      <td>-0.008290</td>\n",
       "      <td>0.063725</td>\n",
       "      <td>1.000000</td>\n",
       "      <td>0.084665</td>\n",
       "      <td>-0.026060</td>\n",
       "    </tr>\n",
       "    <tr>\n",
       "      <th>valence</th>\n",
       "      <td>0.000173</td>\n",
       "      <td>-0.221677</td>\n",
       "      <td>0.390220</td>\n",
       "      <td>-0.126988</td>\n",
       "      <td>0.347967</td>\n",
       "      <td>-0.259960</td>\n",
       "      <td>-0.014524</td>\n",
       "      <td>0.037165</td>\n",
       "      <td>0.284016</td>\n",
       "      <td>-0.036254</td>\n",
       "      <td>0.031579</td>\n",
       "      <td>0.084665</td>\n",
       "      <td>1.000000</td>\n",
       "      <td>0.035240</td>\n",
       "    </tr>\n",
       "    <tr>\n",
       "      <th>music_genre</th>\n",
       "      <td>-0.002357</td>\n",
       "      <td>-0.078429</td>\n",
       "      <td>0.277984</td>\n",
       "      <td>-0.022059</td>\n",
       "      <td>0.011156</td>\n",
       "      <td>-0.081806</td>\n",
       "      <td>-0.015400</td>\n",
       "      <td>-0.033384</td>\n",
       "      <td>0.073915</td>\n",
       "      <td>0.034665</td>\n",
       "      <td>0.190360</td>\n",
       "      <td>-0.026060</td>\n",
       "      <td>0.035240</td>\n",
       "      <td>1.000000</td>\n",
       "    </tr>\n",
       "  </tbody>\n",
       "</table>\n",
       "</div>"
      ],
      "text/plain": [
       "                  instance_id  acousticness  danceability  duration_ms  \\\n",
       "instance_id          1.000000      0.003948     -0.000881    -0.002828   \n",
       "acousticness         0.003948      1.000000     -0.273418     0.043788   \n",
       "danceability        -0.000881     -0.273418      1.000000    -0.145350   \n",
       "duration_ms         -0.002828      0.043788     -0.145350     1.000000   \n",
       "energy               0.004788     -0.764949      0.182730    -0.055477   \n",
       "instrumentalness     0.009771      0.316769     -0.253837     0.141540   \n",
       "key                  0.003355      0.009435     -0.013858    -0.009097   \n",
       "liveness             0.002304     -0.091847     -0.080752     0.037041   \n",
       "loudness            -0.000079     -0.699716      0.317236    -0.096941   \n",
       "mode                 0.004631     -0.025454      0.049264     0.005898   \n",
       "speechiness         -0.013367     -0.144587      0.257981    -0.082702   \n",
       "tempo               -0.011032     -0.212512     -0.059124    -0.041173   \n",
       "valence              0.000173     -0.221677      0.390220    -0.126988   \n",
       "music_genre         -0.002357     -0.078429      0.277984    -0.022059   \n",
       "\n",
       "                    energy  instrumentalness       key  liveness  loudness  \\\n",
       "instance_id       0.004788          0.009771  0.003355  0.002304 -0.000079   \n",
       "acousticness     -0.764949          0.316769  0.009435 -0.091847 -0.699716   \n",
       "danceability      0.182730         -0.253837 -0.013858 -0.080752  0.317236   \n",
       "duration_ms      -0.055477          0.141540 -0.009097  0.037041 -0.096941   \n",
       "energy            1.000000         -0.319971 -0.007379  0.176778  0.821801   \n",
       "instrumentalness -0.319971          1.000000  0.001967 -0.063769 -0.481391   \n",
       "key              -0.007379          0.001967  1.000000 -0.006667  0.000809   \n",
       "liveness          0.176778         -0.063769 -0.006667  1.000000  0.106557   \n",
       "loudness          0.821801         -0.481391  0.000809  0.106557  1.000000   \n",
       "mode              0.011247          0.055855 -0.039744 -0.019001  0.008070   \n",
       "speechiness       0.150511         -0.176950 -0.007132  0.098580  0.152085   \n",
       "tempo             0.247982         -0.094429 -0.000507  0.038479  0.217711   \n",
       "valence           0.347967         -0.259960 -0.014524  0.037165  0.284016   \n",
       "music_genre       0.011156         -0.081806 -0.015400 -0.033384  0.073915   \n",
       "\n",
       "                      mode  speechiness     tempo   valence  music_genre  \n",
       "instance_id       0.004631    -0.013367 -0.011032  0.000173    -0.002357  \n",
       "acousticness     -0.025454    -0.144587 -0.212512 -0.221677    -0.078429  \n",
       "danceability      0.049264     0.257981 -0.059124  0.390220     0.277984  \n",
       "duration_ms       0.005898    -0.082702 -0.041173 -0.126988    -0.022059  \n",
       "energy            0.011247     0.150511  0.247982  0.347967     0.011156  \n",
       "instrumentalness  0.055855    -0.176950 -0.094429 -0.259960    -0.081806  \n",
       "key              -0.039744    -0.007132 -0.000507 -0.014524    -0.015400  \n",
       "liveness         -0.019001     0.098580  0.038479  0.037165    -0.033384  \n",
       "loudness          0.008070     0.152085  0.217711  0.284016     0.073915  \n",
       "mode              1.000000     0.071118 -0.008290 -0.036254     0.034665  \n",
       "speechiness       0.071118     1.000000  0.063725  0.031579     0.190360  \n",
       "tempo            -0.008290     0.063725  1.000000  0.084665    -0.026060  \n",
       "valence          -0.036254     0.031579  0.084665  1.000000     0.035240  \n",
       "music_genre       0.034665     0.190360 -0.026060  0.035240     1.000000  "
      ]
     },
     "execution_count": 200,
     "metadata": {},
     "output_type": "execute_result"
    }
   ],
   "source": [
    "# Построим общую корреляционную матрицу и присвоим ей имя для дальнейшего использования при формировании\n",
    "# признаков для обучения моделей\n",
    "corr_matrix = data_train.corr()\n",
    "corr_matrix"
   ]
  },
  {
   "cell_type": "code",
   "execution_count": 201,
   "id": "5b6b3aa6",
   "metadata": {},
   "outputs": [
    {
     "data": {
      "text/plain": [
       "instance_id        -0.002357\n",
       "acousticness       -0.078429\n",
       "danceability        0.277984\n",
       "duration_ms        -0.022059\n",
       "energy              0.011156\n",
       "instrumentalness   -0.081806\n",
       "key                -0.015400\n",
       "liveness           -0.033384\n",
       "loudness            0.073915\n",
       "mode                0.034665\n",
       "speechiness         0.190360\n",
       "tempo              -0.026060\n",
       "valence             0.035240\n",
       "music_genre         1.000000\n",
       "Name: music_genre, dtype: float64"
      ]
     },
     "execution_count": 201,
     "metadata": {},
     "output_type": "execute_result"
    }
   ],
   "source": [
    "# Смотрим на корреляцию признаков к целевому признаку music_genre методом Пирсона\n",
    "# с помощью функции corr\n",
    "corr_train= data_train.corr(method='pearson')['music_genre'][:]\n",
    "corr_train"
   ]
  },
  {
   "cell_type": "markdown",
   "id": "64819591",
   "metadata": {},
   "source": [
    "**Описание результатов ознакомления корреляции признаков к целевому признаку music_genre**\n",
    "\n",
    "Если с ростом первой величины растёт вторая, то коэффициент корреляции Пирсона — положительный. Если при изменении одной величины другая остаётся прежней, то коэффициент равен 0. Если рост одной величины связан с уменьшением другой, коэффициент отрицательный. Чем ближе коэффициент корреляции Пирсона к крайним значениям 1 или -1, тем теснее линейная взаимосвязь. Если значение близко к нулю, значит, линейная связь слабая либо отсутствует вовсе.\n",
    "\n",
    "**instance_id**\n",
    "\n",
    "Признак instance_id имеет очень низкую корреляцию примерно -0,002357 с целевым признаком music_genre. Это означает, что между instance_id и music_genre практически нет линейной связи. Корреляция близка к нулю, что указывает на отсутствие сильной зависимости между этими двумя переменными.\n",
    "\n",
    "**acousticness:**\n",
    "\n",
    "Признак акустичности имеет отрицательную корреляцию примерно -0,078 с целевым признаком music_genre. Это говорит о том, что с увеличением акустичности песни вероятность ее принадлежности к целевому музыкальному жанру уменьшается. Другими словами, песни с меньшими значениями акустичности с большей вероятностью будут принадлежать к целевому музыкальному жанру.\n",
    "\n",
    "**danceability:**\n",
    "\n",
    "Признак танцевальности имеет положительную корреляцию примерно 0,278 с целевым признаком music_genre. Это означает, что с увеличением танцевальности песни возрастает вероятность ее принадлежности к целевому музыкальному жанру. Другими словами, песни с более высокими значениями танцевальности с большей вероятностью относятся к целевому музыкальному жанру.\n",
    "\n",
    "**duration_ms:**\n",
    "\n",
    "Признак duration_ms имеет очень небольшую отрицательную корреляцию примерно -0,022 с целевым признаком music_genre. Это говорит о том, что существует слабая отрицательная связь между продолжительностью песни в миллисекундах и вероятностью ее принадлежности к целевому музыкальному жанру. Однако корреляция довольно мала, что указывает на отсутствие сильной связи между этими переменными.\n",
    "\n",
    "**energy:**\n",
    "\n",
    "Признак energy имеет очень небольшую положительную корреляцию примерно 0,011 с целевым признаком music_genre. Это говорит о том, что существует слабая положительная связь между энергией песни и вероятностью ее принадлежности к целевому музыкальному жанру. Однако корреляция довольно мала, что указывает на отсутствие сильной связи между этими переменными.\n",
    "\n",
    "**instrumentalness:**\n",
    "\n",
    "Признак инструментальности имеет отрицательную корреляцию примерно -0,082 с целевым признаком music_genre. Это говорит о том, что с увеличением инструментальности песни вероятность ее принадлежности к целевому музыкальному жанру уменьшается. Другими словами, песни с меньшим значением инструментальности с большей вероятностью относятся к целевому музыкальному жанру.\n",
    "\n",
    "**key:**\n",
    "\n",
    "Признак key имеет очень небольшую отрицательную корреляцию примерно -0,015 с целевым признаком music_genre. Это говорит о том, что существует слабая отрицательная связь между ключом песни и вероятностью ее принадлежности к целевому музыкальному жанру. Однако корреляция довольно мала, что указывает на отсутствие сильной связи между этими переменными.\n",
    "\n",
    "**liveness:**\n",
    "\n",
    "Признак liveness имеет небольшую отрицательную корреляцию примерно -0,033 с целевым признаком music_genre. Это говорит о том, что с увеличением показателя liveness песни уменьшается вероятность ее принадлежности к целевому музыкальному жанру. Другими словами, песни с меньшими значениями liveness с большей вероятностью относятся к целевому музыкальному жанру.\n",
    "\n",
    "**loudness:**\n",
    "\n",
    "Признак громкости имеет положительную корреляцию примерно 0,074 с целевым признаком music_genre. Это означает, что с увеличением громкости песни возрастает вероятность ее принадлежности к целевому музыкальному жанру. Другими словами, песни с более высокими значениями громкости с большей вероятностью относятся к целевому музыкальному жанру.\n",
    "\n",
    "**mode:**\n",
    "\n",
    "Признак mode имеет небольшую положительную корреляцию примерно 0,035 с целевым признаком music_genre. Это говорит о том, что существует слабая положительная связь между режимом песни и вероятностью ее принадлежности к целевому музыкальному жанру. Однако корреляция довольно мала, что говорит о том, что сильной связи между этими переменными может и не быть.\n",
    "\n",
    "**speechiness:**\n",
    "\n",
    "Признак speechiness имеет положительную корреляцию примерно 0,190 с целевым признаком music_genre. Это указывает на то, что с увеличением речевой насыщенности песни возрастает вероятность ее принадлежности к целевому музыкальному жанру. Другими словами, песни с более высокими значениями речевых характеристик с большей вероятностью будут относиться к целевому музыкальному жанру.\n",
    "\n",
    "**tempo:**\n",
    "\n",
    "Признак tempo имеет небольшую отрицательную корреляцию примерно -0,026 с целевым признаком music_genre. Это говорит о том, что существует слабая отрицательная связь между темпом песни и вероятностью ее принадлежности к целевому музыкальному жанру. Однако корреляция довольно мала, что указывает на отсутствие сильной связи между этими переменными.\n",
    "\n",
    "**valence:**\n",
    "\n",
    "Признак valence имеет небольшую положительную корреляцию примерно 0,035 с целевым признаком music_genre. Это говорит о том, что существует слабая положительная связь между валентностью песни и вероятностью ее принадлежности к целевому музыкальному жанру. Однако корреляция довольно мала, что указывает на отсутствие сильной связи между этими переменными.\n",
    "\n",
    "**music_genre (целевой признак):**\n",
    "\n",
    "Признак music_genre имеет идеальную положительную корреляцию 1 с самим собой, поскольку он представляет собой целевую переменную. Это указывает на то, что между признаком music_genre и самим признаком существует идеальная связь.\n",
    "\n",
    "Изучив более детально результаты корреляции можно сделать вывод, что корреляция всех признаков не такая уж и высокая. Максимальная положительная корреляция, которую мы наблюдаем относится к признаку danceability (0,278), затем идет положительная корреляция признака speechiness (0,190). Что касается отрицательной корреляции, то максимальная отрицательная корреляция относится признаку instrumentalness (-0,082), следующим признаком с отрицательной корреляцией идет acousticness (-0,078).\n",
    "\n",
    "Следующим шагом проведем дополнительный анализ по каждому признаку, включая поиск возможных выбросов в данных."
   ]
  },
  {
   "cell_type": "markdown",
   "id": "06db9c0c",
   "metadata": {},
   "source": [
    "**3.3 Более детальное изучение признаков**"
   ]
  },
  {
   "cell_type": "code",
   "execution_count": 202,
   "id": "56fd611d",
   "metadata": {},
   "outputs": [
    {
     "data": {
      "text/html": [
       "<div>\n",
       "<style scoped>\n",
       "    .dataframe tbody tr th:only-of-type {\n",
       "        vertical-align: middle;\n",
       "    }\n",
       "\n",
       "    .dataframe tbody tr th {\n",
       "        vertical-align: top;\n",
       "    }\n",
       "\n",
       "    .dataframe thead th {\n",
       "        text-align: right;\n",
       "    }\n",
       "</style>\n",
       "<table border=\"1\" class=\"dataframe\">\n",
       "  <thead>\n",
       "    <tr style=\"text-align: right;\">\n",
       "      <th></th>\n",
       "      <th>instance_id</th>\n",
       "      <th>acousticness</th>\n",
       "      <th>danceability</th>\n",
       "      <th>duration_ms</th>\n",
       "      <th>energy</th>\n",
       "      <th>instrumentalness</th>\n",
       "      <th>key</th>\n",
       "      <th>liveness</th>\n",
       "      <th>loudness</th>\n",
       "      <th>mode</th>\n",
       "      <th>speechiness</th>\n",
       "      <th>tempo</th>\n",
       "      <th>valence</th>\n",
       "      <th>music_genre</th>\n",
       "    </tr>\n",
       "  </thead>\n",
       "  <tbody>\n",
       "    <tr>\n",
       "      <th>count</th>\n",
       "      <td>20394.000000</td>\n",
       "      <td>20394.000000</td>\n",
       "      <td>20394.000000</td>\n",
       "      <td>2.039400e+04</td>\n",
       "      <td>20394.000000</td>\n",
       "      <td>20394.000000</td>\n",
       "      <td>20394.000000</td>\n",
       "      <td>20394.000000</td>\n",
       "      <td>20394.000000</td>\n",
       "      <td>20394.000000</td>\n",
       "      <td>20394.000000</td>\n",
       "      <td>20394.000000</td>\n",
       "      <td>20394.000000</td>\n",
       "      <td>20394.000000</td>\n",
       "    </tr>\n",
       "    <tr>\n",
       "      <th>mean</th>\n",
       "      <td>55973.846916</td>\n",
       "      <td>0.274783</td>\n",
       "      <td>0.561983</td>\n",
       "      <td>2.203754e+05</td>\n",
       "      <td>0.625276</td>\n",
       "      <td>0.159989</td>\n",
       "      <td>5.570413</td>\n",
       "      <td>0.198540</td>\n",
       "      <td>-8.552998</td>\n",
       "      <td>0.395803</td>\n",
       "      <td>0.091352</td>\n",
       "      <td>120.942522</td>\n",
       "      <td>0.464588</td>\n",
       "      <td>4.289889</td>\n",
       "    </tr>\n",
       "    <tr>\n",
       "      <th>std</th>\n",
       "      <td>20695.792545</td>\n",
       "      <td>0.321643</td>\n",
       "      <td>0.171898</td>\n",
       "      <td>1.267283e+05</td>\n",
       "      <td>0.251238</td>\n",
       "      <td>0.306503</td>\n",
       "      <td>3.621540</td>\n",
       "      <td>0.166742</td>\n",
       "      <td>5.499917</td>\n",
       "      <td>0.537382</td>\n",
       "      <td>0.097735</td>\n",
       "      <td>30.096038</td>\n",
       "      <td>0.243387</td>\n",
       "      <td>2.979886</td>\n",
       "    </tr>\n",
       "    <tr>\n",
       "      <th>min</th>\n",
       "      <td>20011.000000</td>\n",
       "      <td>0.000000</td>\n",
       "      <td>0.060000</td>\n",
       "      <td>-1.000000e+00</td>\n",
       "      <td>0.001010</td>\n",
       "      <td>0.000000</td>\n",
       "      <td>0.000000</td>\n",
       "      <td>0.013600</td>\n",
       "      <td>-44.406000</td>\n",
       "      <td>0.000000</td>\n",
       "      <td>0.022300</td>\n",
       "      <td>34.765000</td>\n",
       "      <td>0.000000</td>\n",
       "      <td>0.000000</td>\n",
       "    </tr>\n",
       "    <tr>\n",
       "      <th>25%</th>\n",
       "      <td>38157.250000</td>\n",
       "      <td>0.015200</td>\n",
       "      <td>0.451000</td>\n",
       "      <td>1.775170e+05</td>\n",
       "      <td>0.470000</td>\n",
       "      <td>0.000000</td>\n",
       "      <td>3.000000</td>\n",
       "      <td>0.097300</td>\n",
       "      <td>-10.255750</td>\n",
       "      <td>0.000000</td>\n",
       "      <td>0.035600</td>\n",
       "      <td>96.028500</td>\n",
       "      <td>0.272000</td>\n",
       "      <td>2.000000</td>\n",
       "    </tr>\n",
       "    <tr>\n",
       "      <th>50%</th>\n",
       "      <td>56030.000000</td>\n",
       "      <td>0.120000</td>\n",
       "      <td>0.570000</td>\n",
       "      <td>2.195330e+05</td>\n",
       "      <td>0.666000</td>\n",
       "      <td>0.000144</td>\n",
       "      <td>5.000000</td>\n",
       "      <td>0.130000</td>\n",
       "      <td>-7.052000</td>\n",
       "      <td>0.000000</td>\n",
       "      <td>0.049050</td>\n",
       "      <td>120.494000</td>\n",
       "      <td>0.457000</td>\n",
       "      <td>4.000000</td>\n",
       "    </tr>\n",
       "    <tr>\n",
       "      <th>75%</th>\n",
       "      <td>73912.750000</td>\n",
       "      <td>0.470000</td>\n",
       "      <td>0.683000</td>\n",
       "      <td>2.660000e+05</td>\n",
       "      <td>0.830000</td>\n",
       "      <td>0.084475</td>\n",
       "      <td>9.000000</td>\n",
       "      <td>0.253000</td>\n",
       "      <td>-5.054000</td>\n",
       "      <td>1.000000</td>\n",
       "      <td>0.095575</td>\n",
       "      <td>140.974000</td>\n",
       "      <td>0.653000</td>\n",
       "      <td>7.000000</td>\n",
       "    </tr>\n",
       "    <tr>\n",
       "      <th>max</th>\n",
       "      <td>91758.000000</td>\n",
       "      <td>0.996000</td>\n",
       "      <td>0.978000</td>\n",
       "      <td>4.497994e+06</td>\n",
       "      <td>0.999000</td>\n",
       "      <td>0.996000</td>\n",
       "      <td>12.000000</td>\n",
       "      <td>1.000000</td>\n",
       "      <td>3.744000</td>\n",
       "      <td>2.000000</td>\n",
       "      <td>0.942000</td>\n",
       "      <td>220.041000</td>\n",
       "      <td>0.992000</td>\n",
       "      <td>9.000000</td>\n",
       "    </tr>\n",
       "  </tbody>\n",
       "</table>\n",
       "</div>"
      ],
      "text/plain": [
       "        instance_id  acousticness  danceability   duration_ms        energy  \\\n",
       "count  20394.000000  20394.000000  20394.000000  2.039400e+04  20394.000000   \n",
       "mean   55973.846916      0.274783      0.561983  2.203754e+05      0.625276   \n",
       "std    20695.792545      0.321643      0.171898  1.267283e+05      0.251238   \n",
       "min    20011.000000      0.000000      0.060000 -1.000000e+00      0.001010   \n",
       "25%    38157.250000      0.015200      0.451000  1.775170e+05      0.470000   \n",
       "50%    56030.000000      0.120000      0.570000  2.195330e+05      0.666000   \n",
       "75%    73912.750000      0.470000      0.683000  2.660000e+05      0.830000   \n",
       "max    91758.000000      0.996000      0.978000  4.497994e+06      0.999000   \n",
       "\n",
       "       instrumentalness           key      liveness      loudness  \\\n",
       "count      20394.000000  20394.000000  20394.000000  20394.000000   \n",
       "mean           0.159989      5.570413      0.198540     -8.552998   \n",
       "std            0.306503      3.621540      0.166742      5.499917   \n",
       "min            0.000000      0.000000      0.013600    -44.406000   \n",
       "25%            0.000000      3.000000      0.097300    -10.255750   \n",
       "50%            0.000144      5.000000      0.130000     -7.052000   \n",
       "75%            0.084475      9.000000      0.253000     -5.054000   \n",
       "max            0.996000     12.000000      1.000000      3.744000   \n",
       "\n",
       "               mode   speechiness         tempo       valence   music_genre  \n",
       "count  20394.000000  20394.000000  20394.000000  20394.000000  20394.000000  \n",
       "mean       0.395803      0.091352    120.942522      0.464588      4.289889  \n",
       "std        0.537382      0.097735     30.096038      0.243387      2.979886  \n",
       "min        0.000000      0.022300     34.765000      0.000000      0.000000  \n",
       "25%        0.000000      0.035600     96.028500      0.272000      2.000000  \n",
       "50%        0.000000      0.049050    120.494000      0.457000      4.000000  \n",
       "75%        1.000000      0.095575    140.974000      0.653000      7.000000  \n",
       "max        2.000000      0.942000    220.041000      0.992000      9.000000  "
      ]
     },
     "execution_count": 202,
     "metadata": {},
     "output_type": "execute_result"
    }
   ],
   "source": [
    "# Изучаем обучающий датасет функцией describe()\n",
    "data_train.describe()"
   ]
  },
  {
   "cell_type": "code",
   "execution_count": 203,
   "id": "90b3ff89",
   "metadata": {},
   "outputs": [
    {
     "data": {
      "text/html": [
       "<div>\n",
       "<style scoped>\n",
       "    .dataframe tbody tr th:only-of-type {\n",
       "        vertical-align: middle;\n",
       "    }\n",
       "\n",
       "    .dataframe tbody tr th {\n",
       "        vertical-align: top;\n",
       "    }\n",
       "\n",
       "    .dataframe thead th {\n",
       "        text-align: right;\n",
       "    }\n",
       "</style>\n",
       "<table border=\"1\" class=\"dataframe\">\n",
       "  <thead>\n",
       "    <tr style=\"text-align: right;\">\n",
       "      <th></th>\n",
       "      <th>instance_id</th>\n",
       "      <th>acousticness</th>\n",
       "      <th>danceability</th>\n",
       "      <th>duration_ms</th>\n",
       "      <th>energy</th>\n",
       "      <th>instrumentalness</th>\n",
       "      <th>key</th>\n",
       "      <th>liveness</th>\n",
       "      <th>loudness</th>\n",
       "      <th>mode</th>\n",
       "      <th>speechiness</th>\n",
       "      <th>tempo</th>\n",
       "      <th>valence</th>\n",
       "    </tr>\n",
       "  </thead>\n",
       "  <tbody>\n",
       "    <tr>\n",
       "      <th>count</th>\n",
       "      <td>5099.000000</td>\n",
       "      <td>5099.000000</td>\n",
       "      <td>5099.000000</td>\n",
       "      <td>5.099000e+03</td>\n",
       "      <td>5099.000000</td>\n",
       "      <td>5099.000000</td>\n",
       "      <td>5099.000000</td>\n",
       "      <td>5099.000000</td>\n",
       "      <td>5099.000000</td>\n",
       "      <td>5099.000000</td>\n",
       "      <td>5099.000000</td>\n",
       "      <td>5099.000000</td>\n",
       "      <td>5099.000000</td>\n",
       "    </tr>\n",
       "    <tr>\n",
       "      <th>mean</th>\n",
       "      <td>55643.871347</td>\n",
       "      <td>0.276324</td>\n",
       "      <td>0.561888</td>\n",
       "      <td>2.173974e+05</td>\n",
       "      <td>0.622030</td>\n",
       "      <td>0.165198</td>\n",
       "      <td>5.532653</td>\n",
       "      <td>0.197924</td>\n",
       "      <td>-8.630186</td>\n",
       "      <td>0.406158</td>\n",
       "      <td>0.092718</td>\n",
       "      <td>121.239250</td>\n",
       "      <td>0.465593</td>\n",
       "    </tr>\n",
       "    <tr>\n",
       "      <th>std</th>\n",
       "      <td>20762.384803</td>\n",
       "      <td>0.322657</td>\n",
       "      <td>0.170502</td>\n",
       "      <td>1.156374e+05</td>\n",
       "      <td>0.251829</td>\n",
       "      <td>0.311940</td>\n",
       "      <td>3.579159</td>\n",
       "      <td>0.166241</td>\n",
       "      <td>5.619766</td>\n",
       "      <td>0.547444</td>\n",
       "      <td>0.100130</td>\n",
       "      <td>29.519307</td>\n",
       "      <td>0.244217</td>\n",
       "    </tr>\n",
       "    <tr>\n",
       "      <th>min</th>\n",
       "      <td>20012.000000</td>\n",
       "      <td>0.000002</td>\n",
       "      <td>0.059600</td>\n",
       "      <td>-1.000000e+00</td>\n",
       "      <td>0.001540</td>\n",
       "      <td>0.000000</td>\n",
       "      <td>0.000000</td>\n",
       "      <td>0.020400</td>\n",
       "      <td>-46.122000</td>\n",
       "      <td>0.000000</td>\n",
       "      <td>0.022600</td>\n",
       "      <td>37.114000</td>\n",
       "      <td>0.020500</td>\n",
       "    </tr>\n",
       "    <tr>\n",
       "      <th>25%</th>\n",
       "      <td>37571.000000</td>\n",
       "      <td>0.016600</td>\n",
       "      <td>0.451000</td>\n",
       "      <td>1.737335e+05</td>\n",
       "      <td>0.465000</td>\n",
       "      <td>0.000000</td>\n",
       "      <td>3.000000</td>\n",
       "      <td>0.096950</td>\n",
       "      <td>-10.231000</td>\n",
       "      <td>0.000000</td>\n",
       "      <td>0.035700</td>\n",
       "      <td>96.732500</td>\n",
       "      <td>0.272000</td>\n",
       "    </tr>\n",
       "    <tr>\n",
       "      <th>50%</th>\n",
       "      <td>55246.000000</td>\n",
       "      <td>0.120000</td>\n",
       "      <td>0.568000</td>\n",
       "      <td>2.175000e+05</td>\n",
       "      <td>0.660000</td>\n",
       "      <td>0.000157</td>\n",
       "      <td>5.000000</td>\n",
       "      <td>0.129000</td>\n",
       "      <td>-7.135000</td>\n",
       "      <td>0.000000</td>\n",
       "      <td>0.048700</td>\n",
       "      <td>120.942522</td>\n",
       "      <td>0.458000</td>\n",
       "    </tr>\n",
       "    <tr>\n",
       "      <th>75%</th>\n",
       "      <td>73702.000000</td>\n",
       "      <td>0.460000</td>\n",
       "      <td>0.681000</td>\n",
       "      <td>2.642470e+05</td>\n",
       "      <td>0.826000</td>\n",
       "      <td>0.092750</td>\n",
       "      <td>9.000000</td>\n",
       "      <td>0.248000</td>\n",
       "      <td>-5.127000</td>\n",
       "      <td>1.000000</td>\n",
       "      <td>0.096550</td>\n",
       "      <td>141.002500</td>\n",
       "      <td>0.650000</td>\n",
       "    </tr>\n",
       "    <tr>\n",
       "      <th>max</th>\n",
       "      <td>91709.000000</td>\n",
       "      <td>0.996000</td>\n",
       "      <td>0.977000</td>\n",
       "      <td>1.360027e+06</td>\n",
       "      <td>0.999000</td>\n",
       "      <td>0.994000</td>\n",
       "      <td>12.000000</td>\n",
       "      <td>0.990000</td>\n",
       "      <td>1.949000</td>\n",
       "      <td>2.000000</td>\n",
       "      <td>0.918000</td>\n",
       "      <td>216.029000</td>\n",
       "      <td>0.982000</td>\n",
       "    </tr>\n",
       "  </tbody>\n",
       "</table>\n",
       "</div>"
      ],
      "text/plain": [
       "        instance_id  acousticness  danceability   duration_ms       energy  \\\n",
       "count   5099.000000   5099.000000   5099.000000  5.099000e+03  5099.000000   \n",
       "mean   55643.871347      0.276324      0.561888  2.173974e+05     0.622030   \n",
       "std    20762.384803      0.322657      0.170502  1.156374e+05     0.251829   \n",
       "min    20012.000000      0.000002      0.059600 -1.000000e+00     0.001540   \n",
       "25%    37571.000000      0.016600      0.451000  1.737335e+05     0.465000   \n",
       "50%    55246.000000      0.120000      0.568000  2.175000e+05     0.660000   \n",
       "75%    73702.000000      0.460000      0.681000  2.642470e+05     0.826000   \n",
       "max    91709.000000      0.996000      0.977000  1.360027e+06     0.999000   \n",
       "\n",
       "       instrumentalness          key     liveness     loudness         mode  \\\n",
       "count       5099.000000  5099.000000  5099.000000  5099.000000  5099.000000   \n",
       "mean           0.165198     5.532653     0.197924    -8.630186     0.406158   \n",
       "std            0.311940     3.579159     0.166241     5.619766     0.547444   \n",
       "min            0.000000     0.000000     0.020400   -46.122000     0.000000   \n",
       "25%            0.000000     3.000000     0.096950   -10.231000     0.000000   \n",
       "50%            0.000157     5.000000     0.129000    -7.135000     0.000000   \n",
       "75%            0.092750     9.000000     0.248000    -5.127000     1.000000   \n",
       "max            0.994000    12.000000     0.990000     1.949000     2.000000   \n",
       "\n",
       "       speechiness        tempo      valence  \n",
       "count  5099.000000  5099.000000  5099.000000  \n",
       "mean      0.092718   121.239250     0.465593  \n",
       "std       0.100130    29.519307     0.244217  \n",
       "min       0.022600    37.114000     0.020500  \n",
       "25%       0.035700    96.732500     0.272000  \n",
       "50%       0.048700   120.942522     0.458000  \n",
       "75%       0.096550   141.002500     0.650000  \n",
       "max       0.918000   216.029000     0.982000  "
      ]
     },
     "execution_count": 203,
     "metadata": {},
     "output_type": "execute_result"
    }
   ],
   "source": [
    "# Изучаем тестовый датасет функцией describe()\n",
    "data_test.describe()"
   ]
  },
  {
   "cell_type": "markdown",
   "id": "b5115640",
   "metadata": {},
   "source": [
    "Изучив данные функцией describe() мы обнаружили одну аномальность, а именно отрицательное значение в поле duration_ms, обозначающее продолжительность трека в миллисекундах, что выглядит странным. Поэтому следующими действиями будем смотреть на каждый признак с помощью графиков и выявлять любые возможные аномалии или другими словами выбросы. Смотреть мы будем на поля обучающего датасета, поскольку (уже проверено) картина в тестовом датасете по каждому признаку идентича.\n",
    "\n",
    "Поля key, mode и music_genre мы изучать данным методом не будем, полскольку эти данные по своей природе являются категориальными."
   ]
  },
  {
   "cell_type": "code",
   "execution_count": 204,
   "id": "04c5c854",
   "metadata": {},
   "outputs": [
    {
     "data": {
      "image/png": "[encoded data removed]",
      "text/plain": [
       "<Figure size 640x480 with 1 Axes>"
      ]
     },
     "metadata": {},
     "output_type": "display_data"
    }
   ],
   "source": [
    "# Создаем гистограмму признака acousticness обучающего датасета\n",
    "plt.hist(data_train['acousticness'], bins=40, edgecolor='black', color='#F72585')\n",
    "\n",
    "# Прописываем название гистограммы и оси x и y\n",
    "plt.xlabel('Акустичность')\n",
    "plt.ylabel('Частота')\n",
    "plt.title('Распределение акустичности')\n",
    "\n",
    "# Выводим гистограмму\n",
    "plt.show()"
   ]
  },
  {
   "cell_type": "code",
   "execution_count": 66,
   "id": "8efd4f77",
   "metadata": {},
   "outputs": [
    {
     "data": {
      "image/png": "[encoded data removed]",
      "text/plain": [
       "<Figure size 640x480 with 1 Axes>"
      ]
     },
     "metadata": {},
     "output_type": "display_data"
    }
   ],
   "source": [
    "# Создаем boxplot для признака acousticness обучающего датасета\n",
    "plt.boxplot(data_train['acousticness'], vert=False, showfliers=True)\n",
    "\n",
    "# Прописываем название оси x и y\n",
    "plt.xlabel('Акустичность')\n",
    "plt.ylabel('Значение')\n",
    "\n",
    "# Прописываем заголовок графика\n",
    "plt.title('Boxplot акустичности')\n",
    "\n",
    "# Выводим график\n",
    "plt.show()"
   ]
  },
  {
   "cell_type": "markdown",
   "id": "07e2b594",
   "metadata": {},
   "source": [
    "По результатам вывода мы видим, что чаще всего присутствуют записи наименьшей мерой акустичности.\n",
    "Boxplot показывает, что выбросов в этих данных нет."
   ]
  },
  {
   "cell_type": "code",
   "execution_count": 43,
   "id": "ce904569",
   "metadata": {},
   "outputs": [
    {
     "data": {
      "image/png": "[encoded data removed]",
      "text/plain": [
       "<Figure size 640x480 with 1 Axes>"
      ]
     },
     "metadata": {},
     "output_type": "display_data"
    }
   ],
   "source": [
    "# Создаем гистограмму признака danceability обучающего датасета\n",
    "plt.hist(data_train['danceability'], bins=40, edgecolor='black', color='#8209B7')\n",
    "\n",
    "# Прописываем название гистограммы и оси x и y\n",
    "plt.xlabel('Танцевальность')\n",
    "plt.ylabel('Частота')\n",
    "plt.title('Распределение танцевальности')\n",
    "\n",
    "# Выводим гистограмму\n",
    "plt.show()\n"
   ]
  },
  {
   "cell_type": "code",
   "execution_count": 67,
   "id": "5701b5cc",
   "metadata": {},
   "outputs": [
    {
     "data": {
      "image/png": "[encoded data removed]",
      "text/plain": [
       "<Figure size 640x480 with 1 Axes>"
      ]
     },
     "metadata": {},
     "output_type": "display_data"
    }
   ],
   "source": [
    "# Создаем boxplot для признака danceability обучающего датасета\n",
    "plt.boxplot(data_train['danceability'], vert=False, showfliers=True)\n",
    "\n",
    "# Прописываем название оси x и y\n",
    "plt.xlabel('Танцевальность')\n",
    "plt.ylabel('Значение')\n",
    "\n",
    "# Прописываем заголовок графика\n",
    "plt.title('Boxplot танцевальности')\n",
    "\n",
    "# Выводим график\n",
    "plt.show()"
   ]
  },
  {
   "cell_type": "markdown",
   "id": "5bb02f9f",
   "metadata": {},
   "source": [
    "По признаку danceability мы видим, что в основном присутствуют треки с уровнем танцевальности между 0.4 и 0.8.\n",
    "Boxplot показывет, что есть данные, которые потенциально могут быть выбросами (меньше 0.1)."
   ]
  },
  {
   "cell_type": "code",
   "execution_count": 44,
   "id": "8579b7b0",
   "metadata": {},
   "outputs": [
    {
     "data": {
      "image/png": "[encoded data removed]",
      "text/plain": [
       "<Figure size 640x480 with 1 Axes>"
      ]
     },
     "metadata": {},
     "output_type": "display_data"
    }
   ],
   "source": [
    "# Создаем гистограмму признака duration_ms обучающего датасета\n",
    "plt.hist(data_train['duration_ms'], bins=40, edgecolor='black', color='pink')\n",
    "\n",
    "\n",
    "# Прописываем название гистограммы и оси x и y\n",
    "plt.xlabel('Продолжительность песни в миллисекундах')\n",
    "plt.ylabel('Частота')\n",
    "plt.title('Распределение Продолжительности песни в миллисекундах')\n",
    "\n",
    "# Выводим гистограмму\n",
    "plt.show()"
   ]
  },
  {
   "cell_type": "code",
   "execution_count": 68,
   "id": "bfc79f1e",
   "metadata": {},
   "outputs": [
    {
     "data": {
      "image/png": "[encoded data removed]",
      "text/plain": [
       "<Figure size 640x480 with 1 Axes>"
      ]
     },
     "metadata": {},
     "output_type": "display_data"
    }
   ],
   "source": [
    "# Создаем boxplot для признака duration_ms обучающего датасета\n",
    "plt.boxplot(data_train['duration_ms'], vert=False, showfliers=True)\n",
    "\n",
    "# Прописываем название оси x и y\n",
    "plt.xlabel('Продолжительность')\n",
    "plt.ylabel('Значение')\n",
    "\n",
    "# Прописываем заголовок графика\n",
    "plt.title('Boxplot продолжительности')\n",
    "\n",
    "# Выводим график\n",
    "plt.show()"
   ]
  },
  {
   "cell_type": "code",
   "execution_count": 45,
   "id": "ee5916ad",
   "metadata": {},
   "outputs": [
    {
     "data": {
      "image/png": "[encoded data removed]",
      "text/plain": [
       "<Figure size 640x480 with 1 Axes>"
      ]
     },
     "metadata": {},
     "output_type": "display_data"
    }
   ],
   "source": [
    "sns.kdeplot(data_train['duration_ms'])\n",
    "plt.xlabel('Продолжительность песни в миллисекундах')\n",
    "plt.ylabel('Плотность')\n",
    "plt.title('Распределение Продолжительности песни в миллисекундах')\n",
    "plt.show()"
   ]
  },
  {
   "cell_type": "code",
   "execution_count": 46,
   "id": "db671d56",
   "metadata": {},
   "outputs": [
    {
     "data": {
      "text/plain": [
       "-1         2009\n",
       " 240000      16\n",
       " 192000      16\n",
       " 180000      13\n",
       " 182400      10\n",
       "           ... \n",
       " 198286       1\n",
       " 142213       1\n",
       " 368083       1\n",
       " 223237       1\n",
       " 271885       1\n",
       "Name: duration_ms, Length: 13649, dtype: int64"
      ]
     },
     "execution_count": 46,
     "metadata": {},
     "output_type": "execute_result"
    }
   ],
   "source": [
    "# Смотрим на значения признака duration_ms функцией value_counts()\n",
    "data_train['duration_ms'].value_counts()"
   ]
  },
  {
   "cell_type": "code",
   "execution_count": 47,
   "id": "b4da2618",
   "metadata": {},
   "outputs": [
    {
     "data": {
      "text/plain": [
       "-1         509\n",
       " 162333      5\n",
       " 268800      4\n",
       " 216000      4\n",
       " 186000      4\n",
       "          ... \n",
       " 261560      1\n",
       " 211202      1\n",
       " 232133      1\n",
       " 238147      1\n",
       " 256800      1\n",
       "Name: duration_ms, Length: 4185, dtype: int64"
      ]
     },
     "execution_count": 47,
     "metadata": {},
     "output_type": "execute_result"
    }
   ],
   "source": [
    "# Смотрим на значения признака duration_ms функцией value_counts()\n",
    "data_test['duration_ms'].value_counts()"
   ]
  },
  {
   "cell_type": "code",
   "execution_count": 48,
   "id": "1021727c",
   "metadata": {},
   "outputs": [
    {
     "data": {
      "image/png": "[encoded data removed]",
      "text/plain": [
       "<Figure size 640x480 with 1 Axes>"
      ]
     },
     "metadata": {},
     "output_type": "display_data"
    }
   ],
   "source": [
    "# Создаем диаграмму pie-chart (пирог) для вычесления процентного соотношения отрицательных \n",
    "# значений в признаке duration_ms в обучающем датасете\n",
    "categories = ['Меньше 0', 'Больше 0']\n",
    "values = [len(data_train[data_train['duration_ms'] < 0]), len(data_train[data_train['duration_ms'] >= 0])]\n",
    "\n",
    "plt.pie(values, labels=categories, autopct='%1.1f%%', startangle=90)\n",
    "plt.axis('equal')\n",
    "plt.title('Pie Graph по признаку Продолжительности песни')\n",
    "\n",
    "plt.show()"
   ]
  },
  {
   "cell_type": "code",
   "execution_count": 49,
   "id": "7f44b62f",
   "metadata": {},
   "outputs": [
    {
     "data": {
      "image/png": "[encoded data removed]",
      "text/plain": [
       "<Figure size 640x480 with 1 Axes>"
      ]
     },
     "metadata": {},
     "output_type": "display_data"
    }
   ],
   "source": [
    "# Создаем диаграмму pie-chart (пирог) для вычесления процентного соотношения отрицательных \n",
    "# значений в признаке duration_ms в тестовом датасете\n",
    "categories = ['Меньше 0', 'Больше 0']\n",
    "values = [len(data_test[data_test['duration_ms'] < 0]), len(data_test[data_test['duration_ms'] >= 0])]\n",
    "\n",
    "plt.pie(values, labels=categories, autopct='%1.1f%%', startangle=90)\n",
    "plt.axis('equal')\n",
    "plt.title('Pie Graph по признаку Продолжительности песни')\n",
    "\n",
    "plt.show()"
   ]
  },
  {
   "cell_type": "code",
   "execution_count": 50,
   "id": "12bd47b9",
   "metadata": {},
   "outputs": [
    {
     "data": {
      "text/html": [
       "<div>\n",
       "<style scoped>\n",
       "    .dataframe tbody tr th:only-of-type {\n",
       "        vertical-align: middle;\n",
       "    }\n",
       "\n",
       "    .dataframe tbody tr th {\n",
       "        vertical-align: top;\n",
       "    }\n",
       "\n",
       "    .dataframe thead th {\n",
       "        text-align: right;\n",
       "    }\n",
       "</style>\n",
       "<table border=\"1\" class=\"dataframe\">\n",
       "  <thead>\n",
       "    <tr style=\"text-align: right;\">\n",
       "      <th></th>\n",
       "      <th>instance_id</th>\n",
       "      <th>acousticness</th>\n",
       "      <th>danceability</th>\n",
       "      <th>duration_ms</th>\n",
       "      <th>energy</th>\n",
       "      <th>instrumentalness</th>\n",
       "      <th>key</th>\n",
       "      <th>liveness</th>\n",
       "      <th>loudness</th>\n",
       "      <th>mode</th>\n",
       "      <th>speechiness</th>\n",
       "      <th>tempo</th>\n",
       "      <th>valence</th>\n",
       "      <th>music_genre</th>\n",
       "    </tr>\n",
       "  </thead>\n",
       "  <tbody>\n",
       "    <tr>\n",
       "      <th>13</th>\n",
       "      <td>73565</td>\n",
       "      <td>0.1100</td>\n",
       "      <td>0.470</td>\n",
       "      <td>-1</td>\n",
       "      <td>0.6410</td>\n",
       "      <td>0.000000</td>\n",
       "      <td>9</td>\n",
       "      <td>0.155</td>\n",
       "      <td>-7.454</td>\n",
       "      <td>0</td>\n",
       "      <td>0.0658</td>\n",
       "      <td>86.387</td>\n",
       "      <td>0.6380</td>\n",
       "      <td>1</td>\n",
       "    </tr>\n",
       "    <tr>\n",
       "      <th>26</th>\n",
       "      <td>87453</td>\n",
       "      <td>0.9910</td>\n",
       "      <td>0.154</td>\n",
       "      <td>-1</td>\n",
       "      <td>0.0384</td>\n",
       "      <td>0.902000</td>\n",
       "      <td>12</td>\n",
       "      <td>0.109</td>\n",
       "      <td>-26.909</td>\n",
       "      <td>0</td>\n",
       "      <td>0.0405</td>\n",
       "      <td>68.199</td>\n",
       "      <td>0.0393</td>\n",
       "      <td>3</td>\n",
       "    </tr>\n",
       "    <tr>\n",
       "      <th>35</th>\n",
       "      <td>76827</td>\n",
       "      <td>0.0848</td>\n",
       "      <td>0.748</td>\n",
       "      <td>-1</td>\n",
       "      <td>0.7120</td>\n",
       "      <td>0.000000</td>\n",
       "      <td>5</td>\n",
       "      <td>0.132</td>\n",
       "      <td>-5.651</td>\n",
       "      <td>0</td>\n",
       "      <td>0.1430</td>\n",
       "      <td>140.055</td>\n",
       "      <td>0.1800</td>\n",
       "      <td>8</td>\n",
       "    </tr>\n",
       "    <tr>\n",
       "      <th>50</th>\n",
       "      <td>43888</td>\n",
       "      <td>0.0540</td>\n",
       "      <td>0.482</td>\n",
       "      <td>-1</td>\n",
       "      <td>0.6270</td>\n",
       "      <td>0.000003</td>\n",
       "      <td>5</td>\n",
       "      <td>0.111</td>\n",
       "      <td>-5.779</td>\n",
       "      <td>0</td>\n",
       "      <td>0.0300</td>\n",
       "      <td>95.903</td>\n",
       "      <td>0.1700</td>\n",
       "      <td>0</td>\n",
       "    </tr>\n",
       "    <tr>\n",
       "      <th>55</th>\n",
       "      <td>39574</td>\n",
       "      <td>0.9090</td>\n",
       "      <td>0.374</td>\n",
       "      <td>-1</td>\n",
       "      <td>0.2270</td>\n",
       "      <td>0.000069</td>\n",
       "      <td>1</td>\n",
       "      <td>0.686</td>\n",
       "      <td>-18.719</td>\n",
       "      <td>0</td>\n",
       "      <td>0.0579</td>\n",
       "      <td>78.236</td>\n",
       "      <td>0.2640</td>\n",
       "      <td>3</td>\n",
       "    </tr>\n",
       "  </tbody>\n",
       "</table>\n",
       "</div>"
      ],
      "text/plain": [
       "    instance_id  acousticness  danceability  duration_ms  energy  \\\n",
       "13        73565        0.1100         0.470           -1  0.6410   \n",
       "26        87453        0.9910         0.154           -1  0.0384   \n",
       "35        76827        0.0848         0.748           -1  0.7120   \n",
       "50        43888        0.0540         0.482           -1  0.6270   \n",
       "55        39574        0.9090         0.374           -1  0.2270   \n",
       "\n",
       "    instrumentalness  key  liveness  loudness  mode  speechiness    tempo  \\\n",
       "13          0.000000    9     0.155    -7.454     0       0.0658   86.387   \n",
       "26          0.902000   12     0.109   -26.909     0       0.0405   68.199   \n",
       "35          0.000000    5     0.132    -5.651     0       0.1430  140.055   \n",
       "50          0.000003    5     0.111    -5.779     0       0.0300   95.903   \n",
       "55          0.000069    1     0.686   -18.719     0       0.0579   78.236   \n",
       "\n",
       "    valence  music_genre  \n",
       "13   0.6380            1  \n",
       "26   0.0393            3  \n",
       "35   0.1800            8  \n",
       "50   0.1700            0  \n",
       "55   0.2640            3  "
      ]
     },
     "execution_count": 50,
     "metadata": {},
     "output_type": "execute_result"
    }
   ],
   "source": [
    "# Смотрим на первый 5 строк записей с продолжительностью меньше 0\n",
    "data_train[data_train['duration_ms'] < 0].head()"
   ]
  },
  {
   "cell_type": "markdown",
   "id": "4e3b8157",
   "metadata": {},
   "source": [
    "По признаку duration_ms мы определили, что данные продолжительности песни в основном находтся в переделах от 0 до 1. Мы также обнарудили и отрицательные значения как -1.\n",
    "\n",
    "Учитывая, что в данных количество строк с продолжительснотью трека в мс меньше 0 насчитывается больше 10%, то удалять данные строки будет неправильным, так как это будет существенно влиять на обучение моделей. Принимаем решение оставить эти строки в наборах данных для дальнейшего обучения."
   ]
  },
  {
   "cell_type": "code",
   "execution_count": null,
   "id": "c0666fe7",
   "metadata": {},
   "outputs": [],
   "source": [
    "# Удаляем строки в поле duration_ms удовлетворяющие условию, что продоложительность меньше 0\n",
    "#data_train.drop(data_train[data_train['duration_ms'] < 0].index, inplace=True)\n",
    "#data_test.drop(data_test[data_test['duration_ms'] < 0].index, inplace=True)\n",
    "\n",
    "# Сбрасываем индексы после удаления строк\n",
    "#data_train.reset_index(drop=True, inplace=True)\n",
    "#data_test.reset_index(drop=True, inplace=True)"
   ]
  },
  {
   "cell_type": "markdown",
   "id": "5c84259c",
   "metadata": {},
   "source": [
    "<div style=\"background: #B0E0E6; padding: 5px; border: 1px solid SteelBlue; border-radius: 5px;\">\n",
    "    <font color='4682B4'><u><b>ВОПРОС СТУДЕНТА</b></u></font>\n",
    "    <br />\n",
    "    <font color='4682B4'>\n",
    "    \n",
    "Изначально хотел удалить строки с условием, что продолжительность трека меньше 0, но так и не понял как сделать так, чтобы после разделения выборок в тестовой выборке получилось одинаковое количество строк. Сброс индексов не помог. Возможно, что необходимо изначально объединить обучающий и тестовый датасет в один, затем сделать подготовку данных, включая удаление строк, и после этого уже сделать разбивку на обучающий, валидациооный и тестовый выборки? Просьба прокоментировать."
   ]
  },
  {
   "cell_type": "code",
   "execution_count": 53,
   "id": "9da11bd7",
   "metadata": {},
   "outputs": [
    {
     "data": {
      "image/png": "[encoded data removed]",
      "text/plain": [
       "<Figure size 640x480 with 1 Axes>"
      ]
     },
     "metadata": {},
     "output_type": "display_data"
    }
   ],
   "source": [
    "# Создаем гистограмму признака energy обучающего датасета\n",
    "plt.hist(data_train['energy'], bins=40, edgecolor='black', color='green')\n",
    "\n",
    "# Прописываем название гистограммы и оси x и y\n",
    "plt.xlabel('Энергичность песни')\n",
    "plt.ylabel('Частота')\n",
    "plt.title('Распределение Энергичности')\n",
    "\n",
    "# Выводим гистограмму\n",
    "plt.show()"
   ]
  },
  {
   "cell_type": "code",
   "execution_count": 69,
   "id": "fb1e712b",
   "metadata": {},
   "outputs": [
    {
     "data": {
      "image/png": "[encoded data removed]",
      "text/plain": [
       "<Figure size 640x480 with 1 Axes>"
      ]
     },
     "metadata": {},
     "output_type": "display_data"
    }
   ],
   "source": [
    "# Создаем boxplot для признака energy обучающего датасета\n",
    "plt.boxplot(data_train['energy'], vert=False, showfliers=True)\n",
    "\n",
    "# Прописываем название оси x и y\n",
    "plt.xlabel('Энергичность')\n",
    "plt.ylabel('Значение')\n",
    "\n",
    "# Прописываем заголовок графика\n",
    "plt.title('Boxplot энергичности')\n",
    "\n",
    "# Выводим график\n",
    "plt.show()"
   ]
  },
  {
   "cell_type": "markdown",
   "id": "7a2f90c6",
   "metadata": {},
   "source": [
    "Признак energy показывает, что энергичность треков, представленных в данных находится в пределах от 0 до 1 с большим перевесом данных к энергичности. График ящик с усами выбросов не показал."
   ]
  },
  {
   "cell_type": "code",
   "execution_count": 54,
   "id": "b94d1291",
   "metadata": {},
   "outputs": [
    {
     "data": {
      "image/png": "[encoded data removed]",
      "text/plain": [
       "<Figure size 640x480 with 1 Axes>"
      ]
     },
     "metadata": {},
     "output_type": "display_data"
    }
   ],
   "source": [
    "# Создаем гистограмму признака instrumentalness обучающего датасета\n",
    "plt.hist(data_train['instrumentalness'], bins=40, edgecolor='black', color='#00FFFF')\n",
    "\n",
    "# Прописываем название гистограммы и оси x и y\n",
    "plt.xlabel('Инструментальность песни')\n",
    "plt.ylabel('Частота')\n",
    "plt.title('Распределение Инструментальности')\n",
    "\n",
    "# Выводим гистограмму\n",
    "plt.show()"
   ]
  },
  {
   "cell_type": "code",
   "execution_count": 70,
   "id": "e0975e66",
   "metadata": {},
   "outputs": [
    {
     "data": {
      "image/png": "[encoded data removed]",
      "text/plain": [
       "<Figure size 640x480 with 1 Axes>"
      ]
     },
     "metadata": {},
     "output_type": "display_data"
    }
   ],
   "source": [
    "# Создаем boxplot для признака instrumentalness обучающего датасета\n",
    "plt.boxplot(data_train['instrumentalness'], vert=False, showfliers=True)\n",
    "\n",
    "# Прописываем название оси x и y\n",
    "plt.xlabel('Инструментальность')\n",
    "plt.ylabel('Значение')\n",
    "\n",
    "# Прописываем заголовок графика\n",
    "plt.title('Boxplot Инструментальности')\n",
    "\n",
    "# Выводим график\n",
    "plt.show()"
   ]
  },
  {
   "cell_type": "markdown",
   "id": "322e1151",
   "metadata": {},
   "source": [
    "Признак instrumentalness указывает на то, что большинство данных содержат треки с наличием вокала (значение ближе к 0). Мы также вилим что ящик с усами показал наличие зашумленности данных, начиная с уровня 0.2"
   ]
  },
  {
   "cell_type": "code",
   "execution_count": 56,
   "id": "9f48c606",
   "metadata": {},
   "outputs": [
    {
     "data": {
      "image/png": "[encoded data removed]",
      "text/plain": [
       "<Figure size 640x480 with 1 Axes>"
      ]
     },
     "metadata": {},
     "output_type": "display_data"
    }
   ],
   "source": [
    "# Создаем гистограмму признака liveness обучающего датасета\n",
    "plt.hist(data_train['liveness'], bins=40, edgecolor='black', color='#808000')\n",
    "\n",
    "# Прописываем название гистограммы и оси x и y\n",
    "plt.xlabel('Наличие аудитории в записи')\n",
    "plt.ylabel('Частота')\n",
    "plt.title('Распределение показателя Наличия аудитории в записи')\n",
    "\n",
    "# Выводим гистограмму\n",
    "plt.show()"
   ]
  },
  {
   "cell_type": "code",
   "execution_count": 71,
   "id": "2b88163e",
   "metadata": {},
   "outputs": [
    {
     "data": {
      "image/png": "[encoded data removed]",
      "text/plain": [
       "<Figure size 640x480 with 1 Axes>"
      ]
     },
     "metadata": {},
     "output_type": "display_data"
    }
   ],
   "source": [
    "# Создаем boxplot для признака liveness обучающего датасета\n",
    "plt.boxplot(data_train['liveness'], vert=False, showfliers=True)\n",
    "\n",
    "# Прописываем название оси x и y\n",
    "plt.xlabel('Наличие аудитории в записи')\n",
    "plt.ylabel('Значение')\n",
    "\n",
    "# Прописываем заголовок графика\n",
    "plt.title('Boxplot Наличия аудитории в записи')\n",
    "\n",
    "# Выводим график\n",
    "plt.show()"
   ]
  },
  {
   "cell_type": "markdown",
   "id": "2f779043",
   "metadata": {},
   "source": [
    "Гистограмма по признаку liveness показала нам, что большинство представленных данных имеют тенденцию к пониманию того, что треки исполняются не в живую. График язик с усами показывает на наличие выбросов, начиная с уровня 0.5"
   ]
  },
  {
   "cell_type": "code",
   "execution_count": 57,
   "id": "0a07d56f",
   "metadata": {},
   "outputs": [
    {
     "data": {
      "image/png": "[encoded data removed]",
      "text/plain": [
       "<Figure size 640x480 with 1 Axes>"
      ]
     },
     "metadata": {},
     "output_type": "display_data"
    }
   ],
   "source": [
    "# Создаем гистограмму признака loudness обучающего датасета\n",
    "plt.hist(data_train['loudness'], bins=40, edgecolor='black', color='#FF00FF')\n",
    "\n",
    "# Прописываем название гистограммы и оси x и y\n",
    "plt.xlabel('Общая громкость трека в децибелах (дБ)')\n",
    "plt.ylabel('Частота')\n",
    "plt.title('Распределение Громкости')\n",
    "\n",
    "# Выводим гистограмму\n",
    "plt.show()"
   ]
  },
  {
   "cell_type": "code",
   "execution_count": 72,
   "id": "dc7e87cb",
   "metadata": {},
   "outputs": [
    {
     "data": {
      "image/png": "[encoded data removed]",
      "text/plain": [
       "<Figure size 640x480 with 1 Axes>"
      ]
     },
     "metadata": {},
     "output_type": "display_data"
    }
   ],
   "source": [
    "# Создаем boxplot для признака loudness обучающего датасета\n",
    "plt.boxplot(data_train['loudness'], vert=False, showfliers=True)\n",
    "\n",
    "# Прописываем название оси x и y\n",
    "plt.xlabel('Общая громкость трека в децибелах (дБ)')\n",
    "plt.ylabel('Значение')\n",
    "\n",
    "# Прописываем заголовок графика\n",
    "plt.title('Boxplot Общей громкости в децибелах (дБ)')\n",
    "\n",
    "# Выводим график\n",
    "plt.show()"
   ]
  },
  {
   "cell_type": "markdown",
   "id": "ff1548de",
   "metadata": {},
   "source": [
    "Гистограмма по признаку loudness показывает, что большинство данных в этом поле представляют отрийательную громкость в дБ, что на первый взгляд может показаться странным, ведь при отрицательных значениях человеческая слуховая система не способна уловить звук с отрицательным уровнем в дБ. \n",
    "\n",
    "После изучения открытых источников было определено, что уровень звуковой мощности, измеряемый в отрицательных децибелах, не является абсолютным значением, а лишь относительной величиной в заданной точке отсчета.\n",
    "Отрицательные децибелы также широко используются в аудиоинженерии для измерения уровня звука в аудиоаппаратуре и студийных мониторах. В этих случаях, часто используется шкала от -60 до 0 децибелов для удобства измерения шума или звуковой мощности в сигналах.\n",
    "Источник: https://obzorposudy.ru/polezno/cto-znacit-otricatelnye-decibely\n",
    "\n",
    "Как вывод, было определено, что представленные данные вполне нормальные и это никакая не ошибка."
   ]
  },
  {
   "cell_type": "code",
   "execution_count": 59,
   "id": "f7c9bc0c",
   "metadata": {},
   "outputs": [
    {
     "data": {
      "image/png": "[encoded data removed]",
      "text/plain": [
       "<Figure size 640x480 with 1 Axes>"
      ]
     },
     "metadata": {},
     "output_type": "display_data"
    }
   ],
   "source": [
    "# Создаем гистограмму признака speechiness обучающего датасета\n",
    "plt.hist(data_train['speechiness'], bins=40, edgecolor='black', color='#5567DAF0')\n",
    "\n",
    "# Прописываем название гистограммы и оси x и y\n",
    "plt.xlabel('Показатель наличия разговорной речи в треке')\n",
    "plt.ylabel('Частота')\n",
    "plt.title('Распределение Показателя наличия разговорной речи в треке')\n",
    "\n",
    "# Выводим гистограмму\n",
    "plt.show()"
   ]
  },
  {
   "cell_type": "code",
   "execution_count": 73,
   "id": "dad38239",
   "metadata": {},
   "outputs": [
    {
     "data": {
      "image/png": "[encoded data removed]",
      "text/plain": [
       "<Figure size 640x480 with 1 Axes>"
      ]
     },
     "metadata": {},
     "output_type": "display_data"
    }
   ],
   "source": [
    "# Создаем boxplot для признака speechiness обучающего датасета\n",
    "plt.boxplot(data_train['speechiness'], vert=False, showfliers=True)\n",
    "\n",
    "# Прописываем название оси x и y\n",
    "plt.xlabel('Показатель наличия разговорной речи в треке')\n",
    "plt.ylabel('Значение')\n",
    "\n",
    "# Прописываем заголовок графика\n",
    "plt.title('Boxplot Показателя наличия разговорной речи в треке')\n",
    "\n",
    "# Выводим график\n",
    "plt.show()"
   ]
  },
  {
   "cell_type": "markdown",
   "id": "d65d8434",
   "metadata": {},
   "source": [
    "Гистограмма по признаку speechiness показала нам, что представленные треки в данных имеет характер не разговорной речи (до 0.66). График ящик с усами показывает на наличии выбросов, начиная с показателя 0.2"
   ]
  },
  {
   "cell_type": "code",
   "execution_count": 60,
   "id": "8fe2ef83",
   "metadata": {},
   "outputs": [
    {
     "data": {
      "image/png": "[encoded data removed]",
      "text/plain": [
       "<Figure size 640x480 with 1 Axes>"
      ]
     },
     "metadata": {},
     "output_type": "display_data"
    }
   ],
   "source": [
    "# Создаем гистограмму признака tempo обучающего датасета\n",
    "plt.hist(data_train['tempo'], bins=40, edgecolor='black', color='#F3A9')\n",
    "\n",
    "# Прописываем название гистограммы и оси x и y\n",
    "plt.xlabel('Темп трека в ударах в минуту (BPM)')\n",
    "plt.ylabel('Частота')\n",
    "plt.title('Распределение Показателя темпа трека')\n",
    "\n",
    "# Выводим гистограмму\n",
    "plt.show()"
   ]
  },
  {
   "cell_type": "code",
   "execution_count": 74,
   "id": "e9f753ed",
   "metadata": {},
   "outputs": [
    {
     "data": {
      "image/png": "[encoded data removed]",
      "text/plain": [
       "<Figure size 640x480 with 1 Axes>"
      ]
     },
     "metadata": {},
     "output_type": "display_data"
    }
   ],
   "source": [
    "# Создаем boxplot для признака tempo обучающего датасета\n",
    "plt.boxplot(data_train['tempo'], vert=False, showfliers=True)\n",
    "\n",
    "# Прописываем название оси x и y\n",
    "plt.xlabel('Темп трека в ударах в минуту (BPM)')\n",
    "plt.ylabel('Значение')\n",
    "\n",
    "# Прописываем заголовок графика\n",
    "plt.title('Boxplot Показателя темпа трека')\n",
    "\n",
    "# Выводим график\n",
    "plt.show()"
   ]
  },
  {
   "cell_type": "markdown",
   "id": "45729b1f",
   "metadata": {},
   "source": [
    "Признак tempo уазывает, что в основном присутствуют треки со скоростью в BPM между 75 и 150. График boxplot указывает на наличие выросов в данных, начиная с 210."
   ]
  },
  {
   "cell_type": "code",
   "execution_count": 61,
   "id": "9eb41602",
   "metadata": {},
   "outputs": [
    {
     "data": {
      "image/png": "[encoded data removed]",
      "text/plain": [
       "<Figure size 640x480 with 1 Axes>"
      ]
     },
     "metadata": {},
     "output_type": "display_data"
    }
   ],
   "source": [
    "# Создаем гистограмму признака valence обучающего датасета\n",
    "plt.hist(data_train['valence'], bins=40, edgecolor='black', color='#00CED1')\n",
    "\n",
    "# Прописываем название гистограммы и оси x и y\n",
    "plt.xlabel('Показатель музыкального позитива, передаваемого треком')\n",
    "plt.ylabel('Частота')\n",
    "plt.title('Распределение Показателя музыкального позитива')\n",
    "\n",
    "# Выводим гистограмму\n",
    "plt.show()"
   ]
  },
  {
   "cell_type": "code",
   "execution_count": 75,
   "id": "8c27d998",
   "metadata": {},
   "outputs": [
    {
     "data": {
      "image/png": "[encoded data removed]",
      "text/plain": [
       "<Figure size 640x480 with 1 Axes>"
      ]
     },
     "metadata": {},
     "output_type": "display_data"
    }
   ],
   "source": [
    "# Создаем boxplot для признака valence обучающего датасета\n",
    "plt.boxplot(data_train['valence'], vert=False, showfliers=True)\n",
    "\n",
    "# Прописываем название оси x и y\n",
    "plt.xlabel('Показатель музыкального позитива, передаваемого треком')\n",
    "plt.ylabel('Значение')\n",
    "\n",
    "# Прописываем заголовок графика\n",
    "plt.title('Boxplot Показателя музыкального позитива')\n",
    "\n",
    "# Выводим график\n",
    "plt.show()"
   ]
  },
  {
   "cell_type": "markdown",
   "id": "32b875c3",
   "metadata": {},
   "source": [
    "Признак valence показывает почти одинаковое распределение в данных треков по позитивности. График ящик с усами выбросов не показал."
   ]
  },
  {
   "cell_type": "markdown",
   "id": "305c70e8",
   "metadata": {},
   "source": [
    "## Отбор финального набора обучающих признаков"
   ]
  },
  {
   "cell_type": "markdown",
   "id": "f1de2360",
   "metadata": {},
   "source": [
    "**4.1 Выбор признаков по уровню корреляции**\n",
    "\n",
    "Учитывая ранее полученные результаты при формировании тепловой карты, корреляционной матрицы, а также корреляции признаков к целевому признаку было принято решение оставить финальные признаки для дальнейшего обучения моделей с корреляций (положительной и отрицательной) к целевому признаку music_genre больше 2%.\n",
    "\n",
    "Псоле удаления признаков не удовлетворяющих условию мы создадим переменные для обучени моделей, а также разделим обучающую выборку на обучающую и валидационную в пропорции 1/4."
   ]
  },
  {
   "cell_type": "code",
   "execution_count": 207,
   "id": "c4501986",
   "metadata": {},
   "outputs": [],
   "source": [
    "# Записываем финальный набор обучающих признаков с условием, что минимальный \n",
    "# порог корреляции к целевому признаку 2%\n",
    "threshold = 0.02  # Создаем порог корреляции\n",
    "correlated_features = corr_matrix[((corr_matrix['music_genre'] > threshold) | (corr_matrix['music_genre'] < -threshold))].index\n",
    "\n",
    "# Удаляем целевой признак из финального набора обучающих признаков\n",
    "correlated_features = correlated_features.drop('music_genre')\n",
    "\n",
    "# Создаем переменные для обучающих признаков и целевого признака\n",
    "features_corr = data_train[correlated_features]\n",
    "target = data_train['music_genre']\n",
    "\n",
    "# Делим обучающий датасет на обучающий и валидационный в пропорции 1/4\n",
    "X_train, X_val, y_train, y_val = train_test_split(data_train[correlated_features], \n",
    "                                                  data_train['music_genre'], \n",
    "                                                  test_size=0.25, \n",
    "                                                  random_state=12345)\n",
    "# Применяем финальный набор признаков для тестового датасета\n",
    "features_test = data_test[correlated_features]\n"
   ]
  },
  {
   "cell_type": "code",
   "execution_count": 208,
   "id": "7225c84d",
   "metadata": {},
   "outputs": [
    {
     "name": "stdout",
     "output_type": "stream",
     "text": [
      "(15295, 10) (5099, 10) (15295,) (5099,) (5099, 10)\n"
     ]
    }
   ],
   "source": [
    "# Проверяем корректность разбивки датасетов\n",
    "print(X_train.shape, X_val.shape, y_train.shape, y_val.shape, features_test.shape)"
   ]
  },
  {
   "cell_type": "markdown",
   "id": "7f37780f",
   "metadata": {},
   "source": [
    "**5. Выбор и обучение моделей**\n",
    "\n",
    "Для обучения мы выбрали модели DecisionTreeClassifier, RandomForestClassifier, LogisticRegression.\n",
    "Мы также подберем гиперпараметры для наших моделей с помощью GridSearchCV и произведем оценку по метрике accuracy (точность) и метрике F1. Также хотел проерить модель SupportVectorClassifier, но так и не смог дождаться окончания процесса подбора ниперпараметров.\n",
    "\n",
    "Поскольку наш проект - это задача мультикласса, то мы будем устанавливать в настройках расчета метрики F1 показатель average как 'micro' или 'macro'. Проверим оба варианта надстройки.\n",
    "\n",
    "Macro F1 — это усредненное значение F1 для каждого класса без взвешивания, то есть все классы обрабатываются одинаково.\n",
    "\n",
    "Micro F1 — это значение F1, рассчитанное по всей матрице ошибок. Подсчитывается общее количество истинно положительных, ложноотрицательных и ложноположительных результатов. Значение Micro F1 рассчитывается аналогично значению глобальной точности или глобальной полноты."
   ]
  },
  {
   "cell_type": "code",
   "execution_count": 219,
   "id": "00ef1e4f",
   "metadata": {},
   "outputs": [
    {
     "name": "stdout",
     "output_type": "stream",
     "text": [
      "Точность на валидационном наборе данных: 0.32300451068837027\n",
      "F1-мера на валидационном наборе данных: 0.32300451068837027\n",
      "Предсказания на тестовом наборе данных: [8 0 5 ... 8 1 7]\n"
     ]
    }
   ],
   "source": [
    "# Создаем и обучаем модель DecisionTreeClassifier\n",
    "model_dtc = DecisionTreeClassifier()\n",
    "model_dtc.fit(X_train, y_train)\n",
    "\n",
    "# Выполняем предсказание на валидационном наборе данных\n",
    "y_val_pred = model_dtc.predict(X_val)\n",
    "\n",
    "# Оцениваем производительность модели на валидационном наборе данных\n",
    "validation_accuracy = accuracy_score(y_val, y_val_pred)\n",
    "validation_f1_score = f1_score(y_val, y_val_pred, average='micro')\n",
    "\n",
    "# Выполняем предсказание на тестовом наборе данных\n",
    "y_test_pred = model_dtc.predict(features_test)\n",
    "\n",
    "# Выводим результаты\n",
    "print(\"Точность на валидационном наборе данных:\", validation_accuracy)\n",
    "print(\"F1-мера на валидационном наборе данных:\", validation_f1_score)\n",
    "print(\"Предсказания на тестовом наборе данных:\", y_test_pred)\n"
   ]
  },
  {
   "cell_type": "code",
   "execution_count": null,
   "id": "0d88247b",
   "metadata": {},
   "outputs": [],
   "source": [
    "# Подбираем лучшие гиперпараметры для Decision Tree Classifier с помощью GridSearchCV\n",
    "#parametrs = {'max_depth' : [5, 10, 15],\n",
    "             #'min_samples_leaf': [2, 4, 6],\n",
    "             #'min_samples_split': [2, 4, 6]}\n",
    "#model_dtc_hyper = DecisionTreeClassifier(random_state=12345)\n",
    "#grid_dtc = GridSearchCV(model_dtc_hyper, parametrs, cv=5)\n",
    "#grid_dtc.fit(X_train, y_train)\n",
    "#grid_dtc.best_params_"
   ]
  },
  {
   "cell_type": "code",
   "execution_count": 220,
   "id": "02490ae6",
   "metadata": {},
   "outputs": [
    {
     "name": "stdout",
     "output_type": "stream",
     "text": [
      "Точность на валидационном наборе данных: 0.415767797607374\n",
      "F1-мера на валидационном наборе данных: 0.41576779760737403\n",
      "Предсказания на тестовом наборе данных: [8 2 8 ... 8 1 2]\n"
     ]
    }
   ],
   "source": [
    "# Создаем и обучаем модель DecisionTreeClassifier с подобранными гиперпараметрами\n",
    "model_dtc_hyper = DecisionTreeClassifier(random_state=12345,\n",
    "                                         max_depth=10, \n",
    "                                         min_samples_leaf=6,\n",
    "                                         min_samples_split=2)\n",
    "model_dtc_hyper.fit(X_train, y_train)\n",
    "\n",
    "# Выполняем предсказание на валидационном наборе данных\n",
    "y_val_pred = model_dtc_hyper.predict(X_val)\n",
    "\n",
    "# Оцениваем производительность модели на валидационном наборе данных\n",
    "validation_accuracy = accuracy_score(y_val, y_val_pred)\n",
    "validation_f1_score = f1_score(y_val, y_val_pred, average='micro')\n",
    "\n",
    "# Выполняем предсказание на тестовом наборе данных\n",
    "y_test_pred = model_dtc_hyper.predict(features_test)\n",
    "\n",
    "# Выводим результаты\n",
    "print(\"Точность на валидационном наборе данных:\", validation_accuracy)\n",
    "print(\"F1-мера на валидационном наборе данных:\", validation_f1_score)\n",
    "print(\"Предсказания на тестовом наборе данных:\", y_test_pred)\n"
   ]
  },
  {
   "cell_type": "code",
   "execution_count": 214,
   "id": "f9ea3e14",
   "metadata": {},
   "outputs": [
    {
     "name": "stdout",
     "output_type": "stream",
     "text": [
      "Точность на валидационном наборе данных: 0.4630319670523632\n",
      "F1-мера на валидационном наборе данных: 0.4630319670523632\n",
      "Предсказания на тестовом наборе данных: [8 9 8 ... 8 5 2]\n"
     ]
    }
   ],
   "source": [
    "# Создаем и обучаем модель RandomForestClassifier\n",
    "model_rfc = RandomForestClassifier()\n",
    "model_rfc.fit(X_train, y_train)\n",
    "\n",
    "# Выполняем предсказание на валидационном наборе данных\n",
    "y_val_pred = model_rfc.predict(X_val)\n",
    "\n",
    "# Оцениваем производительность модели на валидационном наборе данных\n",
    "validation_accuracy = accuracy_score(y_val, y_val_pred)\n",
    "validation_f1_score = f1_score(y_val, y_val_pred, average='micro')\n",
    "\n",
    "# Выполняем предсказание на тестовом наборе данных\n",
    "y_test_pred = model_rfc.predict(features_test)\n",
    "\n",
    "# Выводим результаты\n",
    "print(\"Точность на валидационном наборе данных:\", validation_accuracy)\n",
    "print(\"F1-мера на валидационном наборе данных:\", validation_f1_score)\n",
    "print(\"Предсказания на тестовом наборе данных:\", y_test_pred)"
   ]
  },
  {
   "cell_type": "code",
   "execution_count": null,
   "id": "d90d0d16",
   "metadata": {},
   "outputs": [],
   "source": [
    "# Подбираем лучшие гиперпараметры для Random Forest Classifier с помощью GridSearchCV\n",
    "#parametrs = {'n_estimators': [10, 20, 30],\n",
    "             #'max_depth': [5, 10, 15],\n",
    "             #'min_samples_leaf': [2, 4, 6],\n",
    "             #'min_samples_split': [2, 4, 6]}\n",
    "#model_rfc_hyper = RandomForestClassifier(random_state=12345)\n",
    "#grid_rfc = GridSearchCV(model_rfc_hyper, parametrs, cv=5)\n",
    "#grid_rfc.fit(X_train, y_train)\n",
    "#grid_rfc.best_params_"
   ]
  },
  {
   "cell_type": "code",
   "execution_count": 216,
   "id": "ed2015ed",
   "metadata": {},
   "outputs": [
    {
     "name": "stdout",
     "output_type": "stream",
     "text": [
      "Точность на валидационном наборе данных: 0.470092174936262\n",
      "F1-мера на валидационном наборе данных: 0.470092174936262\n",
      "Предсказания на тестовом наборе данных: [8 2 8 ... 8 5 2]\n"
     ]
    }
   ],
   "source": [
    "# Создаем и обучаем модель RandomForestClassifier с подобранными гиперпараметрами\n",
    "model_rfc_hyper = RandomForestClassifier(random_state=12345,\n",
    "                                         max_depth=10, \n",
    "                                         min_samples_leaf=4,\n",
    "                                         min_samples_split=2,\n",
    "                                         n_estimators=20)\n",
    "model_rfc_hyper.fit(X_train, y_train)\n",
    "\n",
    "# Выполняем предсказание на валидационном наборе данных\n",
    "y_val_pred = model_rfc_hyper.predict(X_val)\n",
    "\n",
    "# Оцениваем производительность модели на валидационном наборе данных\n",
    "validation_accuracy = accuracy_score(y_val, y_val_pred)\n",
    "validation_f1_score = f1_score(y_val, y_val_pred, average='micro')\n",
    "\n",
    "# Выполняем предсказание на тестовом наборе данных\n",
    "y_test_pred = model_rfc_hyper.predict(features_test)\n",
    "\n",
    "# Выводим результаты\n",
    "print(\"Точность на валидационном наборе данных:\", validation_accuracy)\n",
    "print(\"F1-мера на валидационном наборе данных:\", validation_f1_score)\n",
    "print(\"Предсказания на тестовом наборе данных:\", y_test_pred)"
   ]
  },
  {
   "cell_type": "code",
   "execution_count": 217,
   "id": "dd2e49b5",
   "metadata": {},
   "outputs": [
    {
     "name": "stdout",
     "output_type": "stream",
     "text": [
      "Точность на валидационном наборе данных: 0.14649931359090018\n",
      "F1-мера на валидационном наборе данных: 0.14649931359090018\n",
      "Предсказания на тестовом наборе данных: [2 5 5 ... 2 0 5]\n"
     ]
    }
   ],
   "source": [
    "# Создаем и обучаем модель Logistic Regression\n",
    "model_lr = LogisticRegression()\n",
    "model_lr.fit(X_train, y_train)\n",
    "\n",
    "# Выполняем предсказание на валидационном наборе данных\n",
    "y_val_pred = model_lr.predict(X_val)\n",
    "\n",
    "# Оцениваем производительность модели на валидационном наборе данных\n",
    "validation_accuracy = accuracy_score(y_val, y_val_pred)\n",
    "validation_f1_score = f1_score(y_val, y_val_pred, average='micro')\n",
    "\n",
    "# Выполняем предсказание на тестовом наборе данных\n",
    "y_test_pred = model_lr.predict(features_test)\n",
    "\n",
    "# Выводим результаты\n",
    "print(\"Точность на валидационном наборе данных:\", validation_accuracy)\n",
    "print(\"F1-мера на валидационном наборе данных:\", validation_f1_score)\n",
    "print(\"Предсказания на тестовом наборе данных:\", y_test_pred)"
   ]
  },
  {
   "cell_type": "code",
   "execution_count": null,
   "id": "c2ea10fa",
   "metadata": {},
   "outputs": [],
   "source": [
    "# Подбираем лучшие гиперпараметры для Logistic Regression с помощью GridSearchCV\n",
    "# parameters = {'penalty' : ['l1', 'l2', 'none'],\n",
    "              # 'solver' : ['newton-cg', 'lbfgs', 'liblinear', 'sag', 'saga'],\n",
    "              # 'multi_class' : ['ovr', 'multinominal'],\n",
    "              # 'C': [0.01, 0.1, 1]}\n",
    "# model_lr_hyper = LogisticRegression(random_state=12345)\n",
    "# grid_lr = GridSearchCV(model_lr_hyper, parameters)\n",
    "# grid_lr.fit(X_train, y_train)\n",
    "# grid_lr.best_params_"
   ]
  },
  {
   "cell_type": "code",
   "execution_count": 218,
   "id": "06ce4ae4",
   "metadata": {},
   "outputs": [
    {
     "name": "stdout",
     "output_type": "stream",
     "text": [
      "Точность на валидационном наборе данных: 0.4034124338105511\n",
      "F1-мера на валидационном наборе данных: 0.40341243381055103\n",
      "Предсказания на тестовом наборе данных: [8 1 8 ... 8 5 2]\n"
     ]
    }
   ],
   "source": [
    "# Создаем и обучаем модель Logistic Regression с подобранными гиперпараметрами\n",
    "model_lr_hyper = LogisticRegression(random_state=12345,\n",
    "                                    C=1, \n",
    "                                    multi_class='ovr',\n",
    "                                    penalty='l1',\n",
    "                                    solver='liblinear')\n",
    "model_lr_hyper.fit(X_train, y_train)\n",
    "\n",
    "# Выполняем предсказание на валидационном наборе данных\n",
    "y_val_pred = model_lr_hyper.predict(X_val)\n",
    "\n",
    "# Оцениваем производительность модели на валидационном наборе данных\n",
    "validation_accuracy = accuracy_score(y_val, y_val_pred)\n",
    "validation_f1_score = f1_score(y_val, y_val_pred, average='micro')\n",
    "\n",
    "# Выполняем предсказание на тестовом наборе данных\n",
    "y_test_pred = model_lr_hyper.predict(features_test)\n",
    "\n",
    "# Выводим результаты\n",
    "print(\"Точность на валидационном наборе данных:\", validation_accuracy)\n",
    "print(\"F1-мера на валидационном наборе данных:\", validation_f1_score)\n",
    "print(\"Предсказания на тестовом наборе данных:\", y_test_pred)"
   ]
  },
  {
   "cell_type": "code",
   "execution_count": null,
   "id": "5e9785d0",
   "metadata": {},
   "outputs": [],
   "source": [
    "# Создаем и обучаем модель Support Vector Classifier\n",
    "# model_svc = SVC()\n",
    "# model_svc.fit(X_train, y_train)\n",
    "\n",
    "# Выполняем предсказание на валидационном наборе данных\n",
    "# y_val_pred = model_svc.predict(X_val)\n",
    "\n",
    "# Оцениваем производительность модели на валидационном наборе данных\n",
    "# validation_accuracy = accuracy_score(y_val, y_val_pred)\n",
    "# validation_f1_score = f1_score(y_val, y_val_pred, average='weighted')\n",
    "\n",
    "# Выполняем предсказание на тестовом наборе данных\n",
    "# y_test_pred = model_svc.predict(features_test)\n",
    "\n",
    "# Выводим результаты\n",
    "# print(\"Accuracy on the validation dataset:\", validation_accuracy)\n",
    "# print(\"F1 score on the validation dataset:\", validation_f1_score)\n",
    "# print(\"Predictions on the test dataset:\", y_test_pred)"
   ]
  },
  {
   "cell_type": "code",
   "execution_count": null,
   "id": "204b84e3",
   "metadata": {},
   "outputs": [],
   "source": [
    "# Подбираем лучшие гиперпараметры для Support Vector Classifier с помощью GridSearchCV\n",
    "# parameters = {'kernel' : ['linear', 'poly', 'rbf', 'sigmoid'],\n",
    "              # 'C': [0.01, 0.1, 1]}\n",
    "# model_svc_hyper = SVC(random_state=12345)\n",
    "# grid_svc = GridSearchCV(model_svc_hyper, parameters)\n",
    "# grid_svc.fit(X_train, y_train)\n",
    "# grid_svc.best_params_"
   ]
  },
  {
   "cell_type": "code",
   "execution_count": null,
   "id": "f930000b",
   "metadata": {},
   "outputs": [],
   "source": [
    "# Создаем и обучаем модель Support Vector Classifier с подобранными гиперпараметрами\n",
    "# model_svc_hyper = LogisticRegression(random_state=12345,\n",
    "                                    # C=1, \n",
    "                                    # kernel='')\n",
    "# model_svc_hyper.fit(X_train, y_train)\n",
    "\n",
    "# Выполняем предсказание на валидационном наборе данных\n",
    "# y_val_pred = model_svc_hyper.predict(X_val)\n",
    "\n",
    "# Оцениваем производительность модели на валидационном наборе данных\n",
    "# validation_accuracy = accuracy_score(y_val, y_val_pred)\n",
    "# validation_f1_score = f1_score(y_val, y_val_pred, average='weighted')\n",
    "\n",
    "# Выполняем предсказание на тестовом наборе данных\n",
    "# y_test_pred = model_svc_hyper.predict(features_test)\n",
    "\n",
    "# Выводим результаты\n",
    "# print(\"Точность на валидационном наборе данных:\", validation_accuracy)\n",
    "# print(\"F1-мера на валидационном наборе данных:\", validation_f1_score)\n",
    "# print(\"Предсказания на тестовом наборе данных:\", y_test_pred)"
   ]
  },
  {
   "cell_type": "markdown",
   "id": "ecb5d977",
   "metadata": {},
   "source": [
    "Мы провели обучение 3 моделей, включая DecisionTreeClassifier, RandomForestClassifier, LogisticRegression и получили следующие резальтаты:\n",
    "\n",
    "**Модель DecisionTreeClassifier**\n",
    "Была создана и обучена модель DecisionTreeClassifier без подбора гиперпараметров. Ее точность на валидационном наборе данных была 0.323, а F1-мера - 0.323.\n",
    "\n",
    "Были подобраны лучшие гиперпараметры для модели DecisionTreeClassifier с помощью GridSearchCV: max_depth=10, min_samples_leaf=6, min_samples_split=2. Затем была создана и обучена модель с этими подобранными гиперпараметрами. Результаты модели улучшились: точность на валидационном наборе данных стала 0.416, а F1-мера - 0.416.\n",
    "\n",
    "**Модель RandomForestClassifier**\n",
    "Была создана и обучена модель RandomForestClassifier без подбора гиперпараметров. Ее точность на валидационном наборе данных была 0.463, а F1-мера - 0.463.\n",
    "\n",
    "Были подобраны лучшие гиперпараметры для модели RandomForestClassifier с помощью GridSearchCV: max_depth=10, min_samples_leaf=4, min_samples_split=2, n_estimators=20. Затем была создана и обучена модель с этими подобранными гиперпараметрами. Результаты модели были улучшены и составили: точность на валидационном наборе данных стала 0.470, а F1-мера - 0.470.\n",
    "\n",
    "**Модель Logisticregression**\n",
    "Была создана и обучена модель Logistic Regression без подбора гиперпараметров. Ее точность на валидационном наборе данных была 0.146, а F1-мера - 0.146.\n",
    "\n",
    "Были подобраны лучшие гиперпараметры для модели Logistic Regression с помощью GridSearchCV: C=1, multi_class='ovr', penalty='l1', solver='liblinear'. Затем была создана и обучена модель с этими подобранными гиперпараметрами. Результаты модели существенно улучшились и были следующими: точность на валидационном наборе данных стала 0.403, а F1-мера - 0.403.\n",
    "\n",
    "По результатам обучения и подбора гиперпараметров лучшей моделью оказалась RandomForestClassifier с показателями:\n",
    "Точность предсказаний: 0.470\n",
    "Мера F1: 0.470\n",
    "\n",
    "Следующим шагом проверим данную модель на тестовой выборке и подготовим файл для сабмита на Kaggle.\n"
   ]
  },
  {
   "cell_type": "code",
   "execution_count": 221,
   "id": "6382e987",
   "metadata": {},
   "outputs": [],
   "source": [
    "# Записываем лучшую модель в переменную best_model\n",
    "best_model = model_rfc_hyper\n",
    "\n",
    "# Формируем предсказание на тестовой выборке\n",
    "predicted_labels = best_model.predict(features_test)"
   ]
  },
  {
   "cell_type": "code",
   "execution_count": 223,
   "id": "338e9c5c",
   "metadata": {},
   "outputs": [
    {
     "data": {
      "text/plain": [
       "array(['Rap', 'Blues', 'Rap', ..., 'Rap', 'Electronic', 'Blues'],\n",
       "      dtype=object)"
      ]
     },
     "execution_count": 223,
     "metadata": {},
     "output_type": "execute_result"
    }
   ],
   "source": [
    "# Декодируем метки классов обратно в исходные значения жанров с помошью inverse_transform\n",
    "predicted_genres = label_encoded_mg.inverse_transform(predicted_labels)\n",
    "\n",
    "# Проверяем сделанные преобразования\n",
    "predicted_genres"
   ]
  },
  {
   "cell_type": "code",
   "execution_count": 229,
   "id": "0a1b6c76",
   "metadata": {},
   "outputs": [
    {
     "data": {
      "text/plain": [
       "0       48564\n",
       "1       72394\n",
       "2       88081\n",
       "3       78331\n",
       "4       72636\n",
       "        ...  \n",
       "5094    50532\n",
       "5095    26255\n",
       "5096    67924\n",
       "5097    79778\n",
       "5098    47986\n",
       "Name: instance_id, Length: 5099, dtype: int64"
      ]
     },
     "execution_count": 229,
     "metadata": {},
     "output_type": "execute_result"
    }
   ],
   "source": [
    "# Извлекаем столбец 'instance_id' из датафрейма data_test для синхронизации индексов \n",
    "# и присваиваем его переменной index.\n",
    "index = data_test['instance_id']\n",
    "index"
   ]
  },
  {
   "cell_type": "code",
   "execution_count": 230,
   "id": "36b1b641",
   "metadata": {},
   "outputs": [],
   "source": [
    "# Создаем новый объект DataFrame с именем submit_df с полями 'instance_id' со значением переменной index\n",
    "# и поля 'music_genre' с предсказанием\n",
    "submit_df = pd.DataFrame({'instance_id' : index, 'music_genre' : predicted_genres}, columns = ['instance_id', 'music_genre'])"
   ]
  },
  {
   "cell_type": "code",
   "execution_count": 231,
   "id": "2c52ef32",
   "metadata": {},
   "outputs": [
    {
     "data": {
      "text/html": [
       "<div>\n",
       "<style scoped>\n",
       "    .dataframe tbody tr th:only-of-type {\n",
       "        vertical-align: middle;\n",
       "    }\n",
       "\n",
       "    .dataframe tbody tr th {\n",
       "        vertical-align: top;\n",
       "    }\n",
       "\n",
       "    .dataframe thead th {\n",
       "        text-align: right;\n",
       "    }\n",
       "</style>\n",
       "<table border=\"1\" class=\"dataframe\">\n",
       "  <thead>\n",
       "    <tr style=\"text-align: right;\">\n",
       "      <th></th>\n",
       "      <th>instance_id</th>\n",
       "      <th>music_genre</th>\n",
       "    </tr>\n",
       "  </thead>\n",
       "  <tbody>\n",
       "    <tr>\n",
       "      <th>0</th>\n",
       "      <td>48564</td>\n",
       "      <td>Rap</td>\n",
       "    </tr>\n",
       "    <tr>\n",
       "      <th>1</th>\n",
       "      <td>72394</td>\n",
       "      <td>Blues</td>\n",
       "    </tr>\n",
       "    <tr>\n",
       "      <th>2</th>\n",
       "      <td>88081</td>\n",
       "      <td>Rap</td>\n",
       "    </tr>\n",
       "    <tr>\n",
       "      <th>3</th>\n",
       "      <td>78331</td>\n",
       "      <td>Country</td>\n",
       "    </tr>\n",
       "    <tr>\n",
       "      <th>4</th>\n",
       "      <td>72636</td>\n",
       "      <td>Alternative</td>\n",
       "    </tr>\n",
       "    <tr>\n",
       "      <th>...</th>\n",
       "      <td>...</td>\n",
       "      <td>...</td>\n",
       "    </tr>\n",
       "    <tr>\n",
       "      <th>5094</th>\n",
       "      <td>50532</td>\n",
       "      <td>Country</td>\n",
       "    </tr>\n",
       "    <tr>\n",
       "      <th>5095</th>\n",
       "      <td>26255</td>\n",
       "      <td>Alternative</td>\n",
       "    </tr>\n",
       "    <tr>\n",
       "      <th>5096</th>\n",
       "      <td>67924</td>\n",
       "      <td>Rap</td>\n",
       "    </tr>\n",
       "    <tr>\n",
       "      <th>5097</th>\n",
       "      <td>79778</td>\n",
       "      <td>Electronic</td>\n",
       "    </tr>\n",
       "    <tr>\n",
       "      <th>5098</th>\n",
       "      <td>47986</td>\n",
       "      <td>Blues</td>\n",
       "    </tr>\n",
       "  </tbody>\n",
       "</table>\n",
       "<p>5099 rows × 2 columns</p>\n",
       "</div>"
      ],
      "text/plain": [
       "      instance_id  music_genre\n",
       "0           48564          Rap\n",
       "1           72394        Blues\n",
       "2           88081          Rap\n",
       "3           78331      Country\n",
       "4           72636  Alternative\n",
       "...           ...          ...\n",
       "5094        50532      Country\n",
       "5095        26255  Alternative\n",
       "5096        67924          Rap\n",
       "5097        79778   Electronic\n",
       "5098        47986        Blues\n",
       "\n",
       "[5099 rows x 2 columns]"
      ]
     },
     "execution_count": 231,
     "metadata": {},
     "output_type": "execute_result"
    }
   ],
   "source": [
    "# Проверяем объект DataFrame\n",
    "submit_df"
   ]
  },
  {
   "cell_type": "code",
   "execution_count": 232,
   "id": "fa9f51b2",
   "metadata": {},
   "outputs": [],
   "source": [
    "# Формируем файл для сабмита на Kaggle, удаляем индекс как это требует проверочный файл через Index=False\n",
    "submit_df.to_csv(\"best_model_music_genere_prediction_rev5.csv\", index=False)"
   ]
  },
  {
   "cell_type": "markdown",
   "id": "e5481c5e",
   "metadata": {},
   "source": [
    "**ВЫВОД**\n",
    "\n",
    "В ходе выполнения проекта по классификации музыкальных произведений по жанрам для сервиса \"МиФаСоль\" были выполнены следующие этапы работы: 1. Загрузка и ознакомление с данными, 2. Предварительная обработка данных, 3. Разведочный анализ данных, 4. Отбор финального набора обучающих признаков и 5. Выбор моделей для обучения.\n",
    "\n",
    "После загрузки и ознакомления с данными было выявлено, что обучающий датасет содержит 20394 записей и 16 полей, а тестовый датасет - 5099 записей и 15 полей. Целевой признак для предсказания 'music_genre' был исключен из тестового датасета. Было обнаружено несколько проблем, таких как различные типы данных в поле 'instance_id' и наличие пропусков в некоторых полях (key, mode и tempo.\n",
    "\n",
    "Для предварительной обработки данных были удалены ненужные поля, а именно track_name и obtained_at. Также были обработаны пропуски и удалены дубликаты. Категориальные пропуски в полях key и mode были заменены на значение 'unknown', а числовые пропуски в поле tempo - на среднее значение.\n",
    "\n",
    "В разведочном анализе данных были проведены дополнительные исследования, включая визуализацию и анализ корреляций. Были выбраны финальные признаки на основе их корреляции с целевым признаком 'music_genre', а также условии, что уровень корреляции не ниже 0,02 (как положительная, так и отрицательная).\n",
    "\n",
    "Для обучения моделей были выбраны DecisionTreeClassifier, RandomForestClassifier и LogisticRegression. Были подобраны лучшие гиперпараметры для каждой модели с использованием GridSearchCV. Лучшей моделью оказалась RandomForestClassifier с точностью предсказаний 0.470 и мерой F1 0.470.\n",
    "\n",
    "Финальным шагом мы проверили модель на тестовой выборке и подготовили файл для сабмита на Kaggle. Результат на Kaggle - 0.46235 (16 место).\n"
   ]
  }
 ],
 "metadata": {
  "kernelspec": {
   "display_name": "Python 3 (ipykernel)",
   "language": "python",
   "name": "python3"
  },
  "language_info": {
   "codemirror_mode": {
    "name": "ipython",
    "version": 3
   },
   "file_extension": ".py",
   "mimetype": "text/x-python",
   "name": "python",
   "nbconvert_exporter": "python",
   "pygments_lexer": "ipython3",
   "version": "3.9.13"
  },
  "toc": {
   "base_numbering": 1,
   "nav_menu": {},
   "number_sections": true,
   "sideBar": true,
   "skip_h1_title": false,
   "title_cell": "Table of Contents",
   "title_sidebar": "Contents",
   "toc_cell": false,
   "toc_position": {},
   "toc_section_display": true,
   "toc_window_display": false
  }
 },
 "nbformat": 4,
 "nbformat_minor": 5
}
